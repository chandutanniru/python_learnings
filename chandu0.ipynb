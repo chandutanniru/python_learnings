{
  "nbformat": 4,
  "nbformat_minor": 0,
  "metadata": {
    "colab": {
      "provenance": [],
      "authorship_tag": "ABX9TyPoqrbyzJqi9/5QZ8vmUe3k",
      "include_colab_link": true
    },
    "kernelspec": {
      "name": "python3",
      "display_name": "Python 3"
    },
    "language_info": {
      "name": "python"
    }
  },
  "cells": [
    {
      "cell_type": "markdown",
      "metadata": {
        "id": "view-in-github",
        "colab_type": "text"
      },
      "source": [
        "<a href=\"https://colab.research.google.com/github/chandutanniru/python_learnings/blob/main/chandu0.ipynb\" target=\"_parent\"><img src=\"https://colab.research.google.com/assets/colab-badge.svg\" alt=\"Open In Colab\"/></a>"
      ]
    },
    {
      "cell_type": "code",
      "execution_count": null,
      "metadata": {
        "id": "linXzoXL4DzN"
      },
      "outputs": [],
      "source": [
        "#what is python\n",
        "\"\"\"1.General purpose prog. language,\n",
        "2.High level programming language,\n",
        "3.object oriented programming language,\n",
        "4.dynamically programming language,\n",
        "5.interpreted programming language,\n"
      ]
    },
    {
      "cell_type": "code",
      "source": [
        "#IDE :- INTEGRATED DEVELOPMENT ENVIRONMENT\n",
        "#how can we define ide?\n",
        "#code compiller, code executer, interpretor"
      ],
      "metadata": {
        "id": "8PLJhjbE5uDe"
      },
      "execution_count": null,
      "outputs": []
    },
    {
      "cell_type": "code",
      "source": [
        "#print \"Hello world\" by using python prog lang?\n",
        "print(\"Hello world!\")"
      ],
      "metadata": {
        "colab": {
          "base_uri": "https://localhost:8080/"
        },
        "id": "DX48TBNr5HvO",
        "outputId": "85e974b5-7d04-4ab6-ca24-812eedb9b62d"
      },
      "execution_count": null,
      "outputs": [
        {
          "output_type": "stream",
          "name": "stdout",
          "text": [
            "Hello world!\n",
            "<class 'str'>\n"
          ]
        }
      ]
    },
    {
      "cell_type": "code",
      "source": [
        "#what is commenting and why it is important?\n",
        "#for the better understanding of the code we are encouraging comments"
      ],
      "metadata": {
        "id": "IC0_wTin5kPM"
      },
      "execution_count": null,
      "outputs": []
    },
    {
      "cell_type": "markdown",
      "source": [
        "#numarical data typee"
      ],
      "metadata": {
        "id": "4nsqB1Wm6fCV"
      }
    },
    {
      "cell_type": "code",
      "source": [
        "#there are 3 types\n",
        "\"\"\"1.integers---> 1, 2, 3, 10, 20, 100,......\n",
        "2.float---> 0.1, 1.1, 2.2, 22.11, 53.586\n",
        "3.complex numbers---> 10+1j,\n",
        "#Integer-->a whole number without decimal point either +ve or -ve is know as integer\n",
        "print(10)\n",
        "#find the data type or class of above integer\n",
        "#type():-function is used to find the data type\n",
        "print(type(10))\n",
        "print(-10)\n",
        "print(type(-10))"
      ],
      "metadata": {
        "colab": {
          "base_uri": "https://localhost:8080/"
        },
        "id": "cb7HLteK6zch",
        "outputId": "4a331dc0-35b6-4ed6-f20c-a5491c020f32"
      },
      "execution_count": null,
      "outputs": [
        {
          "output_type": "stream",
          "name": "stdout",
          "text": [
            "10\n",
            "<class 'int'>\n",
            "-10\n",
            "<class 'int'>\n"
          ]
        }
      ]
    },
    {
      "cell_type": "code",
      "source": [
        "#float:- a whole number with decimal points either +ve or -ve\n",
        "print(10.5)\n",
        "print(type(10.5))\n",
        "#print the data type of given numbers:- 10.0, 2.1, 3.5, -6.0, -2\n",
        "print(type(10.0))\n",
        "print(type(2))\n",
        "print(type(3.5))\n",
        "print(type(-6.0))\n",
        "print(type(-2))\n",
        "print(type(\"Hello world!\"))"
      ],
      "metadata": {
        "colab": {
          "base_uri": "https://localhost:8080/"
        },
        "id": "YWS31PlP8haM",
        "outputId": "d622a01b-cd18-4be9-b6e7-36500742712d"
      },
      "execution_count": null,
      "outputs": [
        {
          "output_type": "stream",
          "name": "stdout",
          "text": [
            "10.5\n",
            "<class 'float'>\n",
            "<class 'float'>\n",
            "<class 'int'>\n",
            "<class 'float'>\n",
            "<class 'float'>\n",
            "<class 'int'>\n",
            "<class 'str'>\n"
          ]
        }
      ]
    },
    {
      "cell_type": "code",
      "source": [
        "#complex Numbers:- A real number with its imaginary part is known as complex numbers\n",
        "print(-10 + 5j)\n",
        "print(type(-10 + 5j))\n",
        "print(1.1 + 5.5j)\n",
        "print(type(1.1 + 5.5j))\n",
        "#\"j\" is known as \"iota\"-->root(-1)"
      ],
      "metadata": {
        "id": "rIQrsGj5-W2u",
        "colab": {
          "base_uri": "https://localhost:8080/"
        },
        "outputId": "9fb85ceb-60f8-4c68-fdd8-9d1cf6541c87"
      },
      "execution_count": null,
      "outputs": [
        {
          "output_type": "stream",
          "name": "stdout",
          "text": [
            "(-10+5j)\n",
            "<class 'complex'>\n",
            "(1.1+5.5j)\n",
            "<class 'complex'>\n"
          ]
        }
      ]
    },
    {
      "cell_type": "markdown",
      "source": [
        "#Arthmatic operatiors"
      ],
      "metadata": {
        "id": "gEFnjLCYBMKz"
      }
    },
    {
      "cell_type": "code",
      "source": [
        "#there are 7 seve arthmatic operators\n",
        "#Addition-->+\n",
        "print(10+5)\n",
        "print(type(10+5))\n",
        "#subtracion-->-\n",
        "print(10-5)\n",
        "print(type(10-5))\n",
        "#multiplication-->*\n",
        "print(10*5)\n",
        "print(type(10*5))\n",
        "#division-->/\n",
        "print(10/5)\n",
        "print(type(10/5))"
      ],
      "metadata": {
        "colab": {
          "base_uri": "https://localhost:8080/"
        },
        "id": "z_ad9eruBd3t",
        "outputId": "930cc182-f693-4c70-a8c5-2d65a637b1ba"
      },
      "execution_count": null,
      "outputs": [
        {
          "output_type": "stream",
          "name": "stdout",
          "text": [
            "15\n",
            "<class 'int'>\n",
            "5\n",
            "<class 'int'>\n",
            "50\n",
            "<class 'int'>\n",
            "2.0\n",
            "<class 'float'>\n"
          ]
        }
      ]
    },
    {
      "cell_type": "code",
      "source": [
        "#Modulus-->%-- nothing but the remainder of the division\n",
        "print(10%5)\n",
        "print(10%3)\n",
        "print(type(10%3))\n",
        "#exponential---> **-->to the power of.\n",
        "print(10**5)\n",
        "print(type(10**5))"
      ],
      "metadata": {
        "colab": {
          "base_uri": "https://localhost:8080/"
        },
        "id": "zJIDf_vCCjc1",
        "outputId": "3bbe0b59-b4d3-4b01-bd97-0228d9d39679"
      },
      "execution_count": null,
      "outputs": [
        {
          "output_type": "stream",
          "name": "stdout",
          "text": [
            "0\n",
            "1\n",
            "<class 'int'>\n",
            "100000\n",
            "<class 'int'>\n"
          ]
        }
      ]
    },
    {
      "cell_type": "code",
      "source": [
        "#why the default data type for division is float?\n",
        "\"\"\"when your doing the division sometime if you want\n",
        "exact co-efficient you may get decimal values instead\n",
        "denoting the data type by default \"gudeo van rossum\"\n",
        "mention it as float\"\"\""
      ],
      "metadata": {
        "id": "8vZ-pXssFZ7v"
      },
      "execution_count": null,
      "outputs": []
    },
    {
      "cell_type": "code",
      "source": [
        "#7.Floor Division: it will ignores the value after decimal point-->//\n",
        "print(10 / 3)\n",
        "print(type(10 / 3))\n",
        "print(10//3)\n",
        "print(type(10//3))"
      ],
      "metadata": {
        "colab": {
          "base_uri": "https://localhost:8080/"
        },
        "id": "_wB8CyUHHGWa",
        "outputId": "86e237b8-9041-4f8d-8f30-932192d1b6ef"
      },
      "execution_count": null,
      "outputs": [
        {
          "output_type": "stream",
          "name": "stdout",
          "text": [
            "3.3333333333333335\n",
            "<class 'float'>\n",
            "3\n",
            "<class 'int'>\n"
          ]
        }
      ]
    },
    {
      "cell_type": "markdown",
      "source": [
        "#round ()"
      ],
      "metadata": {
        "id": "5Pim0x3i-O6z"
      }
    },
    {
      "cell_type": "code",
      "source": [
        "#print the specific decimal values?\n",
        "print(round(2.5326,2))\n",
        "print(round(2.50))\n",
        "print(round(3.4))\n",
        "print(round(3.5))\n",
        "print(round(4.4))\n",
        "print(round(4.5))"
      ],
      "metadata": {
        "colab": {
          "base_uri": "https://localhost:8080/"
        },
        "id": "T3F1djLz-RU2",
        "outputId": "87c2479a-5d5e-4cd8-d81e-8baec151b251"
      },
      "execution_count": null,
      "outputs": [
        {
          "output_type": "stream",
          "name": "stdout",
          "text": [
            "2.53\n",
            "2\n",
            "3\n",
            "4\n",
            "4\n",
            "4\n"
          ]
        }
      ]
    },
    {
      "cell_type": "code",
      "source": [
        "print(round(0.5))\n",
        "print(round(1.5))\n",
        "print(round(5.5))"
      ],
      "metadata": {
        "colab": {
          "base_uri": "https://localhost:8080/"
        },
        "id": "YLSxUtUe-0P3",
        "outputId": "2145987c-4c05-4a4c-8eb1-f0cabed66a1e"
      },
      "execution_count": null,
      "outputs": [
        {
          "output_type": "stream",
          "name": "stdout",
          "text": [
            "0\n",
            "2\n",
            "6\n"
          ]
        }
      ]
    },
    {
      "cell_type": "code",
      "source": [
        "#what is floor value?\n",
        "#what is the ceiling value?"
      ],
      "metadata": {
        "id": "oC3vb8Hm-82q"
      },
      "execution_count": null,
      "outputs": []
    },
    {
      "cell_type": "markdown",
      "source": [
        "#variables\n"
      ],
      "metadata": {
        "id": "6JWHih2p_bJS"
      }
    },
    {
      "cell_type": "code",
      "source": [
        "#how can u define variables?\n",
        "\"\"\"this are the containers where you can store your valuable informatuion and resue it\"\"\"\n",
        "#How can u access the variables?\n",
        "#im using the print statement along with variable name to access the variable\n",
        "#what is the purpose of variable?\n",
        "#use reduce the memory size\n",
        "x = 10\n",
        "y = 5\n",
        "#do all the arthmatic operation\n",
        "print(x + y)\n",
        "print(x - y)\n",
        "print(x * y)\n",
        "print(x / y)\n",
        "print(x % y)\n",
        "print(x ** y)\n",
        "print(x // y)"
      ],
      "metadata": {
        "colab": {
          "base_uri": "https://localhost:8080/"
        },
        "id": "zWT-fczW_s78",
        "outputId": "cf22ea88-0404-4686-eca3-f7dffcb1fb62"
      },
      "execution_count": null,
      "outputs": [
        {
          "output_type": "stream",
          "name": "stdout",
          "text": [
            "15\n",
            "5\n",
            "50\n",
            "2.0\n",
            "0\n",
            "100000\n",
            "2\n"
          ]
        }
      ]
    },
    {
      "cell_type": "code",
      "source": [
        "#python is a interpreted language\n",
        "#what is interpreted?\n",
        "#excute the code line by line\n",
        "\n",
        "x = 5\n",
        "y = 10\n",
        "x = 20\n",
        "y = 40\n",
        "print(x+y)\n",
        "print(type(x + y))"
      ],
      "metadata": {
        "colab": {
          "base_uri": "https://localhost:8080/"
        },
        "id": "OR5hIFmZBpFt",
        "outputId": "b0f714e3-938a-4dd9-f4a7-d02e625594ef"
      },
      "execution_count": null,
      "outputs": [
        {
          "output_type": "stream",
          "name": "stdout",
          "text": [
            "60\n",
            "<class 'int'>\n"
          ]
        }
      ]
    },
    {
      "cell_type": "code",
      "source": [
        "#python is a dynamically typed programming language\n",
        "#we are not defining the data type for variables can python can read data type automatically\n",
        "x = 10\n",
        "print(type(x))\n",
        "y = \"hello world\"\n",
        "print(type(y))"
      ],
      "metadata": {
        "id": "yKf4SPctSJch",
        "colab": {
          "base_uri": "https://localhost:8080/"
        },
        "outputId": "b9d95fe4-08f7-46fb-f210-475c870e2892"
      },
      "execution_count": null,
      "outputs": [
        {
          "output_type": "stream",
          "name": "stdout",
          "text": [
            "<class 'int'>\n",
            "<class 'str'>\n"
          ]
        }
      ]
    },
    {
      "cell_type": "code",
      "source": [
        "#python is case sensitive language\n",
        "s = \"hello world\"\n",
        "print(s)"
      ],
      "metadata": {
        "colab": {
          "base_uri": "https://localhost:8080/"
        },
        "id": "_c1TTk53Bv2u",
        "outputId": "747fbdb2-8b3c-4f9e-a480-c14f37abf9c3"
      },
      "execution_count": null,
      "outputs": [
        {
          "output_type": "stream",
          "name": "stdout",
          "text": [
            "hello world\n"
          ]
        }
      ]
    },
    {
      "cell_type": "markdown",
      "source": [
        "#types of errors"
      ],
      "metadata": {
        "id": "2DOfmO8LDPPP"
      }
    },
    {
      "cell_type": "code",
      "source": [
        "#there are two types of errors\n",
        "#1.syntax error\n",
        "#2.logical error"
      ],
      "metadata": {
        "id": "m6KkrKBcDWVk"
      },
      "execution_count": null,
      "outputs": []
    },
    {
      "cell_type": "code",
      "source": [
        "#what is syntax errors?\n",
        "#breaking the rules of the programming language is know as syntax error\n",
        "#print(x ** y)"
      ],
      "metadata": {
        "id": "LxeGfqtbDkEe"
      },
      "execution_count": null,
      "outputs": []
    },
    {
      "cell_type": "code",
      "source": [
        "#what is logical error?\n",
        "#except syntax error all the errors comes under logical error\n",
        "#ex:- Name error, indendation error"
      ],
      "metadata": {
        "id": "YRFQiP0kE0iA"
      },
      "execution_count": null,
      "outputs": []
    },
    {
      "cell_type": "code",
      "source": [
        "#rules we need follow to create variable?\n",
        "\"\"\" 1. we can start writing variables with alphabets\n",
        "2. you should not start with numericals\n",
        "3. if u follow rule 1 and 2 you start with letter in b/w u can use numbers\n",
        "4. we can create a variable with _\n",
        "5. you should not give spaces in between variables \"\"\"\n",
        "#2 = \"hello world\"\n",
        "#print(2)\n",
        "#son_age=x/2\n",
        "#print(son,age)\n"
      ],
      "metadata": {
        "id": "souImDLHGgsI",
        "colab": {
          "base_uri": "https://localhost:8080/",
          "height": 53
        },
        "outputId": "af1de199-42ca-472c-eb2e-1144e7f47651"
      },
      "execution_count": null,
      "outputs": [
        {
          "output_type": "execute_result",
          "data": {
            "text/plain": [
              "' 1. we can start writing variables with alphabets\\n2. you should not start with numericals\\n3. if u follow rule 1 and 2 you start with letter in b/w u can use numbers\\n4. we can create a variable with _\\n5. you should not give spaces in between variables '"
            ],
            "application/vnd.google.colaboratory.intrinsic+json": {
              "type": "string"
            }
          },
          "metadata": {},
          "execution_count": 16
        }
      ]
    },
    {
      "cell_type": "code",
      "source": [
        "#assign a multiple values to multiple variable and print in seperate line?\n",
        "x,y,z = 5,10,15\n",
        "print(x)\n",
        "print(y)\n",
        "print(z)\n",
        "#use sep = \"/n\"\n",
        "print(x,y,z,sep='\\n') #\"\\n\"--->represents nextline"
      ],
      "metadata": {
        "colab": {
          "base_uri": "https://localhost:8080/"
        },
        "id": "Tr7jhKmEJEBK",
        "outputId": "e517e299-9e1e-495e-ca2c-1ef7276ef93e"
      },
      "execution_count": null,
      "outputs": [
        {
          "output_type": "stream",
          "name": "stdout",
          "text": [
            "5\n",
            "10\n",
            "15\n",
            "5\n",
            "10\n",
            "15\n"
          ]
        }
      ]
    },
    {
      "cell_type": "code",
      "source": [
        "#assign same value to the multiple variables and print in seperate line?\n",
        "a = b = c = 5\n",
        "print(a,b,c, sep='\\n')"
      ],
      "metadata": {
        "colab": {
          "base_uri": "https://localhost:8080/"
        },
        "id": "cLf5yrqIKZ3q",
        "outputId": "9523e718-ba77-4ff1-af48-137826ef1512"
      },
      "execution_count": null,
      "outputs": [
        {
          "output_type": "stream",
          "name": "stdout",
          "text": [
            "5\n",
            "5\n",
            "5\n"
          ]
        }
      ]
    },
    {
      "cell_type": "code",
      "source": [
        "#what is difference between dynamically typed and statistically typed?\n",
        "#dynamically typed programming language means your not defining the data type for the variables\n",
        "#ex:- python\n",
        "#statistically typed programming language means we need to define the data type for the variable."
      ],
      "metadata": {
        "id": "qjtbyxUCS19H"
      },
      "execution_count": null,
      "outputs": []
    },
    {
      "cell_type": "markdown",
      "source": [
        "#input"
      ],
      "metadata": {
        "id": "YM23ajHKLNUL"
      }
    },
    {
      "cell_type": "code",
      "source": [
        "#what is input()?\n",
        "#it intakes the user information/date\n",
        "#how can i access the input()?\n",
        "#how can we create intput()\n",
        "x = input()\n",
        "print(x)\n",
        "print(type(x))"
      ],
      "metadata": {
        "id": "tpsAPds0LQJn",
        "colab": {
          "base_uri": "https://localhost:8080/"
        },
        "outputId": "d770d8d9-d0b5-4379-8db4-73f563a27ca3"
      },
      "execution_count": null,
      "outputs": [
        {
          "output_type": "stream",
          "name": "stdout",
          "text": [
            "2\n",
            "2\n",
            "<class 'str'>\n"
          ]
        }
      ]
    },
    {
      "cell_type": "code",
      "source": [
        "#the default data type for input function is string (\"str\")"
      ],
      "metadata": {
        "id": "gMtjniRUPEnk"
      },
      "execution_count": null,
      "outputs": []
    },
    {
      "cell_type": "code",
      "source": [
        "#define the input() data type when your working with numerical values\n",
        "#note:- when your using input functions() for numerical data, define the data type for input()\n",
        "x = int(input(\"enter the number:\"))\n",
        "y = int(input(\"enter the number:\"))\n",
        "#do all the arthmatic operations\n",
        "print(x + y)\n",
        "print(x - y)\n",
        "print(x * y)\n",
        "print(x / y)\n",
        "print(x % y)\n",
        "print(x ** y)\n",
        "print(x // y)"
      ],
      "metadata": {
        "colab": {
          "base_uri": "https://localhost:8080/"
        },
        "id": "zmmTg2-KRp_d",
        "outputId": "269e6fb1-1cd0-45ad-b7af-8329feb90411"
      },
      "execution_count": null,
      "outputs": [
        {
          "output_type": "stream",
          "name": "stdout",
          "text": [
            "enter the number:10\n",
            "enter the number:5\n",
            "15\n",
            "5\n",
            "50\n",
            "2.0\n",
            "0\n",
            "100000\n",
            "2\n"
          ]
        }
      ]
    },
    {
      "cell_type": "markdown",
      "source": [
        "#strings"
      ],
      "metadata": {
        "id": "iFnU-L0YU4v9"
      }
    },
    {
      "cell_type": "code",
      "source": [
        "#what is strings?\n",
        "#string is a collection of multiple characters written inside the quots(' ', \" \", \"\" \"\")\n",
        "a = \"hello world\"\n",
        "print(a)\n",
        "print(type(a))\n"
      ],
      "metadata": {
        "id": "z2WvN61jU7Cp",
        "colab": {
          "base_uri": "https://localhost:8080/"
        },
        "outputId": "95223665-e01b-4d0c-81dd-4937f38bc0a5"
      },
      "execution_count": null,
      "outputs": [
        {
          "output_type": "stream",
          "name": "stdout",
          "text": [
            "hello world\n",
            "<class 'str'>\n"
          ]
        }
      ]
    },
    {
      "cell_type": "code",
      "source": [
        "a = \"\"\"hi,\n",
        "i am learning python\n",
        "this is multiline string\"\"\"\n",
        "print(a)"
      ],
      "metadata": {
        "colab": {
          "base_uri": "https://localhost:8080/"
        },
        "id": "N8NSsgKfJVvA",
        "outputId": "8d465fcd-a9df-4af6-9a36-11e116f9add7"
      },
      "execution_count": null,
      "outputs": [
        {
          "output_type": "stream",
          "name": "stdout",
          "text": [
            "hi,\n",
            "i am learning python \n",
            "this is multiline string\n"
          ]
        }
      ]
    },
    {
      "cell_type": "code",
      "source": [
        "\"\"\"string is a collection of multiple characters\n",
        "written inside the quotes, each character can be accessiable\"\"\""
      ],
      "metadata": {
        "id": "yFLO8IcxKiEY"
      },
      "execution_count": null,
      "outputs": []
    },
    {
      "cell_type": "code",
      "source": [
        "#how can we access the characters of a string?\n",
        "#we can access the characters of a string with the help of \"indexing\"\n",
        "#what is indexing?\n",
        "#it is the positional number of each character in a string\n",
        "#indexing can be starts from the \"0 onwords\"\n",
        "#along with it we have to use the \"slicing operator--[]\"\n",
        "s = \"hello world\"\n",
        "#[start]\n",
        "#print only 'h' from the above string?\n",
        "print(s[0])\n",
        "#print only \"w\"\n",
        "print(s[5])\n",
        "#print space\n",
        "print(s[6])"
      ],
      "metadata": {
        "colab": {
          "base_uri": "https://localhost:8080/"
        },
        "id": "CM4zG0wwMf6U",
        "outputId": "ef9bead2-6ba7-456c-b4fa-19feacb1dd49"
      },
      "execution_count": null,
      "outputs": [
        {
          "output_type": "stream",
          "name": "stdout",
          "text": [
            "h\n",
            " \n",
            "w\n"
          ]
        }
      ]
    },
    {
      "cell_type": "code",
      "source": [
        "#print only hello from the hellow world?\n",
        "#[start:end]\n",
        "#note:- if you want to display particular end character then please give the end value as \"n+1\"\n",
        "a = \"hello world\"\n",
        "print(a[0:5])\n",
        "print(a[6:11])\n",
        "print(a[0:11])"
      ],
      "metadata": {
        "colab": {
          "base_uri": "https://localhost:8080/"
        },
        "id": "doLm11IGPJse",
        "outputId": "a02fcf8d-8a86-412c-e442-db302d14eda9"
      },
      "execution_count": null,
      "outputs": [
        {
          "output_type": "stream",
          "name": "stdout",
          "text": [
            "hello\n",
            "world\n",
            "hello world\n"
          ]
        }
      ]
    },
    {
      "cell_type": "code",
      "source": [
        "#print the length of string?\n",
        "#length of string can be starts from the \"1 onwords\"\n",
        "a = \"hello world\"\n",
        "print(len(a))\n",
        "a = \"123456789\"\n",
        "print(len(a))"
      ],
      "metadata": {
        "colab": {
          "base_uri": "https://localhost:8080/"
        },
        "id": "TxudrkCsQZte",
        "outputId": "22a7bf4c-20f8-486d-b207-8a4619f4ae1b"
      },
      "execution_count": null,
      "outputs": [
        {
          "output_type": "stream",
          "name": "stdout",
          "text": [
            "11\n",
            "9\n"
          ]
        }
      ]
    },
    {
      "cell_type": "code",
      "source": [
        "a = \"hi i am learning python this is multiline string\"\n",
        "print(len(a))"
      ],
      "metadata": {
        "colab": {
          "base_uri": "https://localhost:8080/"
        },
        "id": "MZt45nhzR6zx",
        "outputId": "f4d502ae-66c1-4ed8-ac8f-a32358494ec9"
      },
      "execution_count": null,
      "outputs": [
        {
          "output_type": "stream",
          "name": "stdout",
          "text": [
            "48\n"
          ]
        }
      ]
    },
    {
      "cell_type": "code",
      "source": [
        "a = \"hi i am learning python this is multiline string\"\n",
        "#length (len) starts from 1\n",
        "print(len(a))\n",
        "print(a[47])\n",
        "print(a[47:48])\n",
        "print(a[46])"
      ],
      "metadata": {
        "colab": {
          "base_uri": "https://localhost:8080/"
        },
        "id": "yoOspIn7Tieb",
        "outputId": "cf1415df-dc9f-4b95-9c54-effbba31b09d"
      },
      "execution_count": null,
      "outputs": [
        {
          "output_type": "stream",
          "name": "stdout",
          "text": [
            "48\n",
            "g\n",
            "g\n",
            "n\n"
          ]
        }
      ]
    },
    {
      "cell_type": "code",
      "source": [
        "#[start:end:step]\n",
        "a = \"hello world\"\n",
        "#print even position characters in given string?\n",
        "print(a[0:12:1])\n",
        "print(a[0:12:2])"
      ],
      "metadata": {
        "colab": {
          "base_uri": "https://localhost:8080/"
        },
        "id": "qDUHiiAxUd0z",
        "outputId": "d6b39045-d20f-4e1b-c817-658af74e641b"
      },
      "execution_count": null,
      "outputs": [
        {
          "output_type": "stream",
          "name": "stdout",
          "text": [
            "hello world\n",
            "hlowrd\n"
          ]
        }
      ]
    },
    {
      "cell_type": "code",
      "source": [
        "a = \"Hello World!\"\n",
        "print(a[:]) #default it takes start position and end position\n",
        "print(a[::])#default it takes start position and end position anddefault step is 1\n",
        "#print odd position character\n",
        "print(a[1::2])\n",
        "print(a[1::3])\n",
        "print(a[::-1])"
      ],
      "metadata": {
        "colab": {
          "base_uri": "https://localhost:8080/"
        },
        "id": "RHX5lQYOW8yQ",
        "outputId": "77635c63-50bf-4115-d4b8-55b2d7a3dbfd"
      },
      "execution_count": null,
      "outputs": [
        {
          "output_type": "stream",
          "name": "stdout",
          "text": [
            "Hello World!\n",
            "Hello World!\n",
            "el ol!\n",
            "eood\n",
            "!dlroW olleH\n"
          ]
        }
      ]
    },
    {
      "cell_type": "code",
      "source": [
        "#print last character?\n",
        "a = \"hello world\"\n",
        "#if u want to print the last character use -ve indexing\n",
        "#what is negetive indexing?\n",
        "#accessing the characters of a string in the reverse direction\n",
        "#the -ve indexing starts from \"-1\"\n",
        "print(a[-1])"
      ],
      "metadata": {
        "colab": {
          "base_uri": "https://localhost:8080/"
        },
        "id": "_x0TAsrWXiqu",
        "outputId": "26bff46f-6538-43d8-d7a1-23618d5c7b32"
      },
      "execution_count": null,
      "outputs": [
        {
          "output_type": "stream",
          "name": "stdout",
          "text": [
            "d\n"
          ]
        }
      ]
    },
    {
      "cell_type": "markdown",
      "source": [
        "#negetive indexing"
      ],
      "metadata": {
        "id": "a5r80araymfI"
      }
    },
    {
      "cell_type": "code",
      "source": [
        "#what is negetive indexing \"(reverse indexing)\"\n",
        "#indexing the positional charecters from right to left (reverse direction)\n",
        "#it reverse the string by slicing operator\"[::-1]\"\n",
        "a = \"hello world!\"\n",
        "#print the range of cheracters in -ve indexing?\n",
        "print(a[-6:-1])\n",
        "#reverse a string\n",
        "print(a[-1:-13:-1])\n",
        "print(a[::-1])"
      ],
      "metadata": {
        "colab": {
          "base_uri": "https://localhost:8080/"
        },
        "id": "MKt6WTNbZfmE",
        "outputId": "483b32cd-2211-48cb-ef29-2192ad9f4045"
      },
      "execution_count": null,
      "outputs": [
        {
          "output_type": "stream",
          "name": "stdout",
          "text": [
            "world\n",
            "!dlrow olleh\n",
            "!dlrow olleh\n"
          ]
        }
      ]
    },
    {
      "cell_type": "code",
      "source": [
        "#check weather the string is palindrom or not?\n",
        "#MOM\n",
        "#MADAM\n",
        "#MALAYALAM\n",
        "#HYDERABAD\n",
        "#KARNATAKA\n",
        "a = \"MOM\"\n",
        "print(a[::-1])\n",
        "a = \"MADAM\"\n",
        "print(a[::-1])\n",
        "a = \"malayalam\"\n",
        "print(a[::-1])"
      ],
      "metadata": {
        "colab": {
          "base_uri": "https://localhost:8080/"
        },
        "id": "t_BE3xzqaSb6",
        "outputId": "d40bd6f9-e9bb-4c5d-e67c-002b354b8ffd"
      },
      "execution_count": null,
      "outputs": [
        {
          "output_type": "stream",
          "name": "stdout",
          "text": [
            "MOM\n",
            "MADAM\n",
            "malayalam\n"
          ]
        }
      ]
    },
    {
      "cell_type": "markdown",
      "source": [
        "#string methods"
      ],
      "metadata": {
        "id": "j3GTzkYab1Md"
      }
    },
    {
      "cell_type": "code",
      "source": [],
      "metadata": {
        "id": "_NTzLBsa4-S-"
      },
      "execution_count": null,
      "outputs": []
    },
    {
      "cell_type": "code",
      "source": [
        "#what are all methods applicable on string?\n",
        "#use the \"dir()\" to print what are all the methods we can apply on string.\n",
        "#what is dir()?\n",
        "#it returns what re all the methods aplicable on given string\n",
        "a = \"Hello World\"\n",
        "#find the methods using \"dir()\"\n",
        "\"\"\"print(dir(a))\"\"\"\n",
        "#some of the string methods\n",
        "#upper()\n",
        "#lower()\n",
        "#remove()\n",
        "#title()\n",
        "#swapcase()--->capital letters become small and small letters become capital\n",
        "#capitalize()\n",
        "#replace() *****-----> replaces the word\n",
        "#title()---> first and after space letter become capital letter\n",
        "#strip()---> unwanted spaces are removed\n",
        "#rstrip()--->leftside unwanted spaces are removed\n",
        "#lstrip()--->rightside unwanted spaces are removed\n",
        "print(a.upper())\n",
        "print(a.swapcase())"
      ],
      "metadata": {
        "colab": {
          "base_uri": "https://localhost:8080/"
        },
        "id": "ZesKhJuObYZF",
        "outputId": "e73b8925-5047-437a-e73b-f85c7ac311e6"
      },
      "execution_count": null,
      "outputs": [
        {
          "output_type": "stream",
          "name": "stdout",
          "text": [
            "HELLO WORLD\n",
            "hELLO wORLD\n"
          ]
        }
      ]
    },
    {
      "cell_type": "code",
      "source": [
        "a = \"hello world\"\n",
        "print(a.capitalize())\n",
        "print(a.title())\n",
        "print(a.removeprefix(\"h\"))\n",
        "print(a.removesuffix(\"d\"))"
      ],
      "metadata": {
        "colab": {
          "base_uri": "https://localhost:8080/"
        },
        "id": "gmF1Ahuvo14M",
        "outputId": "e1ccbdc8-a6ac-4b49-931e-a45418968dae"
      },
      "execution_count": null,
      "outputs": [
        {
          "output_type": "stream",
          "name": "stdout",
          "text": [
            "Hello world\n",
            "Hello World\n",
            "ello world\n",
            "hello worl\n"
          ]
        }
      ]
    },
    {
      "cell_type": "code",
      "source": [
        "a = \"hello world\"\n",
        "print(a.find(\"o\"))\n",
        "print(a.replace(\"world\",\"chandu\")) #----> it replaces the string\n",
        "#capitalize()----> capitalize the first letter in a string\n",
        "print(a.capitalize())\n",
        "#title()------> caitalize the word after the spaces in a string\n",
        "print(a.title())"
      ],
      "metadata": {
        "colab": {
          "base_uri": "https://localhost:8080/"
        },
        "id": "XjLVdzFr6NtC",
        "outputId": "033b1eab-bc34-4022-ff17-1c9361a9b22a"
      },
      "execution_count": null,
      "outputs": [
        {
          "output_type": "stream",
          "name": "stdout",
          "text": [
            "4\n",
            "hello chandu\n",
            "Hello world\n",
            "Hello World\n"
          ]
        }
      ]
    },
    {
      "cell_type": "code",
      "source": [
        "A = \"  hello world  \"\n",
        "print(A.strip())\n",
        "print(A.rstrip())\n",
        "print(A.lstrip())"
      ],
      "metadata": {
        "colab": {
          "base_uri": "https://localhost:8080/"
        },
        "id": "th5tUguJef_B",
        "outputId": "d72d3eef-cad1-4095-bf07-5d325d23945e"
      },
      "execution_count": null,
      "outputs": [
        {
          "output_type": "stream",
          "name": "stdout",
          "text": [
            "hello world\n",
            "  hello world\n",
            "hello world  \n"
          ]
        }
      ]
    },
    {
      "cell_type": "code",
      "source": [
        "#create a string method hello good morning\n",
        "#replace()\n",
        "A = \"hello good morning\"\n",
        "print(A.replace(\"morning\", \"evening\"))\n",
        "#Swapcase()----->capitalize the all small letters in a string\n",
        "print(A.swapcase())\n",
        "print(A.startswith(\"morning\",11,20))\n"
      ],
      "metadata": {
        "colab": {
          "base_uri": "https://localhost:8080/"
        },
        "id": "iddtq8XUfC-0",
        "outputId": "cd06f4ba-2075-4729-c7dd-bac345f87b3b"
      },
      "execution_count": null,
      "outputs": [
        {
          "output_type": "stream",
          "name": "stdout",
          "text": [
            "hello good evening\n",
            "HELLO GOOD MORNING\n",
            "True\n"
          ]
        }
      ]
    },
    {
      "cell_type": "markdown",
      "source": [
        "#string formating method"
      ],
      "metadata": {
        "id": "2BNx_iCSRia8"
      }
    },
    {
      "cell_type": "code",
      "source": [
        "#what is concatination?\n",
        "#addition of string is known as concatination\n",
        "a = \"hello\" + \"universe\"\n",
        "print(a)"
      ],
      "metadata": {
        "colab": {
          "base_uri": "https://localhost:8080/"
        },
        "id": "S_BvJbp2Rpe5",
        "outputId": "285b14fd-d22b-42d0-feb0-a2aa7dc77d74"
      },
      "execution_count": null,
      "outputs": [
        {
          "output_type": "stream",
          "name": "stdout",
          "text": [
            "hellouniverse\n"
          ]
        }
      ]
    },
    {
      "cell_type": "code",
      "source": [
        "#while doing concatination we can given spaces in three ways\n",
        "#1.give the space at the end of the 1st string\n",
        "a = \"hello \" + \"universe\"\n",
        "print(a)"
      ],
      "metadata": {
        "colab": {
          "base_uri": "https://localhost:8080/"
        },
        "id": "qiSms-q6VJ8f",
        "outputId": "bda8cf43-8c9a-4345-d046-dae62ef36d14"
      },
      "execution_count": null,
      "outputs": [
        {
          "output_type": "stream",
          "name": "stdout",
          "text": [
            "hello universe\n"
          ]
        }
      ]
    },
    {
      "cell_type": "code",
      "source": [
        "#2.give the space at initial position of the last string\n",
        "a = \"hello\" + \" universe\"\n",
        "print(a)"
      ],
      "metadata": {
        "colab": {
          "base_uri": "https://localhost:8080/"
        },
        "id": "ObbEkvlwV_a5",
        "outputId": "51f18d34-ac2a-4abc-a0e0-4b5130ccac95"
      },
      "execution_count": null,
      "outputs": [
        {
          "output_type": "stream",
          "name": "stdout",
          "text": [
            "hello universe\n"
          ]
        }
      ]
    },
    {
      "cell_type": "code",
      "source": [
        "#3.adding space in between the string\n",
        "a = \"hello\" + \" \" + \"world\"\n",
        "print(a)"
      ],
      "metadata": {
        "colab": {
          "base_uri": "https://localhost:8080/"
        },
        "id": "kjQkBcofWdC8",
        "outputId": "6c085a6f-4dcf-4e16-a4bb-5b170f030827"
      },
      "execution_count": null,
      "outputs": [
        {
          "output_type": "stream",
          "name": "stdout",
          "text": [
            "hello world\n"
          ]
        }
      ]
    },
    {
      "cell_type": "code",
      "source": [
        "#print hello@world\n",
        "#4.adding \"@\" in between the string\n",
        "a = \"hello\" + \"@\" + \"world\"\n",
        "print(a)"
      ],
      "metadata": {
        "colab": {
          "base_uri": "https://localhost:8080/"
        },
        "id": "eYnJ4NltYLvP",
        "outputId": "d85d7e3b-fad8-498c-f9fc-012eeb368ca1"
      },
      "execution_count": null,
      "outputs": [
        {
          "output_type": "stream",
          "name": "stdout",
          "text": [
            "hello@world\n"
          ]
        }
      ]
    },
    {
      "cell_type": "code",
      "source": [
        "#take a two variables and print \"my age is 10\"?\n",
        "age = 10\n",
        "print(\"my age is\",age)"
      ],
      "metadata": {
        "colab": {
          "base_uri": "https://localhost:8080/"
        },
        "id": "LdiMQJLFYPhZ",
        "outputId": "d859200b-d65b-459a-e85e-80b96c78eee9"
      },
      "execution_count": null,
      "outputs": [
        {
          "output_type": "stream",
          "name": "stdout",
          "text": [
            "my age is 10\n"
          ]
        }
      ]
    },
    {
      "cell_type": "code",
      "source": [
        "a = \"my age is \"\n",
        "b = 10\n",
        "print(a + str(b))"
      ],
      "metadata": {
        "colab": {
          "base_uri": "https://localhost:8080/"
        },
        "id": "MAAtx1nhafuG",
        "outputId": "1b8d950e-aab7-4835-9b57-dd39cfe6c06a"
      },
      "execution_count": null,
      "outputs": [
        {
          "output_type": "stream",
          "name": "stdout",
          "text": [
            "my age is 10\n"
          ]
        }
      ]
    },
    {
      "cell_type": "code",
      "source": [
        "#what is string formating methode?\n",
        "#it is defined as formmating method can takes an arguement\n",
        "#1.the first method of formate is given .formate() in print statement\n",
        "#i want to give an arguement at null placeholders\n",
        "a = \"my age is {}\"\n",
        "b = 10\n",
        "print(a.format(b))"
      ],
      "metadata": {
        "colab": {
          "base_uri": "https://localhost:8080/"
        },
        "id": "lgZzWyNja5pR",
        "outputId": "41a4520d-76e7-46a0-facc-c19057be8d88"
      },
      "execution_count": null,
      "outputs": [
        {
          "output_type": "stream",
          "name": "stdout",
          "text": [
            "my age is 10\n"
          ]
        }
      ]
    },
    {
      "cell_type": "code",
      "source": [
        "#2. 2nd method is string.formate method\n",
        "a = \"my age is {}\".format(b)\n",
        "b = 10\n",
        "print(a)"
      ],
      "metadata": {
        "colab": {
          "base_uri": "https://localhost:8080/"
        },
        "id": "jTzYzBuVb1Vc",
        "outputId": "25ff22f7-a59b-44bb-f611-bbfb03c7def5"
      },
      "execution_count": null,
      "outputs": [
        {
          "output_type": "stream",
          "name": "stdout",
          "text": [
            "my age is 10\n"
          ]
        }
      ]
    },
    {
      "cell_type": "code",
      "source": [
        "#3. f'formate' method\n",
        "age = 10\n",
        "print(f\"my age is {age} years old\")"
      ],
      "metadata": {
        "colab": {
          "base_uri": "https://localhost:8080/"
        },
        "id": "Kldw3RYNcnpM",
        "outputId": "66a0c505-dc7c-44d8-8ca5-29703f2d1d4f"
      },
      "execution_count": null,
      "outputs": [
        {
          "output_type": "stream",
          "name": "stdout",
          "text": [
            "my age is 10 years old\n"
          ]
        }
      ]
    },
    {
      "cell_type": "code",
      "source": [
        "#4.\n",
        "a = 10\n",
        "print(\"my age is\",a,\"years old\")"
      ],
      "metadata": {
        "colab": {
          "base_uri": "https://localhost:8080/"
        },
        "id": "Oe7mhIgs_SK3",
        "outputId": "ed4f4093-5b4a-4000-d3cf-0c75a5c3b5c1"
      },
      "execution_count": null,
      "outputs": [
        {
          "output_type": "stream",
          "name": "stdout",
          "text": [
            "my age is 10 years old\n"
          ]
        }
      ]
    },
    {
      "cell_type": "code",
      "source": [
        "\"your order has been placed for product a with price of 99.9/- and order quantity is 10 is conformed.\"\n",
        "item_name = \"product A\"\n",
        "price = 99.9\n",
        "quantity = 10\n",
        "print(\"your order has been placed for\", item_name, \"with price of\", price, \"/- and order quantity is\",quantity, \" is conformed\")"
      ],
      "metadata": {
        "colab": {
          "base_uri": "https://localhost:8080/"
        },
        "id": "5z8tuYdDfJ-L",
        "outputId": "7c9cb805-d25f-46ed-fef1-a21663fcaa82"
      },
      "execution_count": null,
      "outputs": [
        {
          "output_type": "stream",
          "name": "stdout",
          "text": [
            "your order has been placed for product A with price of 99.9 /- and order quantity is 10  is conformed\n"
          ]
        }
      ]
    },
    {
      "cell_type": "code",
      "source": [
        "item_name = input(\"enter the item name:\")\n",
        "price = float(input(\"enter the product price:\"))\n",
        "quantity = int(input(\"enter the product quantity:\"))\n",
        "final_price = int(price*quantity)\n",
        "print(f'your order has been placed  sucessfully for {item_name} with price of {final_price}/- and order quantity is {quantity} is conformed')"
      ],
      "metadata": {
        "colab": {
          "base_uri": "https://localhost:8080/"
        },
        "id": "0nETFQYmglAy",
        "outputId": "b18bed9b-21a9-41d9-af70-2f4095397c51"
      },
      "execution_count": null,
      "outputs": [
        {
          "output_type": "stream",
          "name": "stdout",
          "text": [
            "enter the item name:mobile\n",
            "enter the product price:9000\n",
            "enter the product quantity:10\n",
            "your order has been placed  sucessfully for mobile with price of 90000/- and order quantity is 10 is conformed\n"
          ]
        }
      ]
    },
    {
      "cell_type": "code",
      "source": [
        "\"\"\"the default data type is string for input() when you apply\n",
        "arthmatic operations in f\"formatemethod\" you need to define the datatype of the input()\"\"\"\n"
      ],
      "metadata": {
        "id": "wxcIbEsjkLSG"
      },
      "execution_count": null,
      "outputs": []
    },
    {
      "cell_type": "code",
      "source": [
        "print(round(5.25,-1))"
      ],
      "metadata": {
        "id": "GKh-Xi_0WpBD",
        "colab": {
          "base_uri": "https://localhost:8080/"
        },
        "outputId": "58bf9ebe-3de1-4664-aee8-81d9ffb7d4d0"
      },
      "execution_count": null,
      "outputs": [
        {
          "output_type": "stream",
          "name": "stdout",
          "text": [
            "10.0\n"
          ]
        }
      ]
    },
    {
      "cell_type": "code",
      "source": [
        "string = \"Hello, World!\"\n",
        "print(len(string))"
      ],
      "metadata": {
        "colab": {
          "base_uri": "https://localhost:8080/"
        },
        "id": "Km_i3FRGfX3J",
        "outputId": "8a6285f7-4bcb-4da2-e17c-b2ee247bdc84"
      },
      "execution_count": null,
      "outputs": [
        {
          "output_type": "stream",
          "name": "stdout",
          "text": [
            "13\n"
          ]
        }
      ]
    },
    {
      "cell_type": "markdown",
      "source": [
        "#Escape characters"
      ],
      "metadata": {
        "id": "PeVEZHTgEJTw"
      }
    },
    {
      "cell_type": "code",
      "source": [
        "#what is Escape characters\n",
        "#if u want to print illegal charactersnin a string we have to use escape characters\n",
        "#----> ude backward slash \"\\\" before of illegal character next at the end also use \"\\\" before illegal characters\n",
        "a = \"Dwyan \\\"the rock\\\" johnsoon\"\n",
        "print(a)"
      ],
      "metadata": {
        "colab": {
          "base_uri": "https://localhost:8080/"
        },
        "id": "9Uv3fAzHEDk9",
        "outputId": "5dd836c0-4a08-4e84-b722-e83c7d595bdd"
      },
      "execution_count": null,
      "outputs": [
        {
          "output_type": "stream",
          "name": "stdout",
          "text": [
            "Dwyan \"the rock\" johnsoon\n"
          ]
        }
      ]
    },
    {
      "cell_type": "markdown",
      "source": [
        "#conditional statements"
      ],
      "metadata": {
        "id": "R2UISmXXtTkd"
      }
    },
    {
      "cell_type": "code",
      "source": [
        "#this are also known as the control structures.\n",
        "#what are called comperision operators in python.\n",
        "#1. equals---> ==\n",
        "#2. not equal---> !=\n",
        "#3. grater than--->  >\n",
        "#4. less than--->   <\n",
        "#5. grater than or equal to--->   >=\n",
        "#6. less than or equal to--->    <=\n"
      ],
      "metadata": {
        "id": "jV1ggNLGtXlP"
      },
      "execution_count": null,
      "outputs": []
    },
    {
      "cell_type": "code",
      "source": [
        "#what are all conditional statements do we have?\n",
        "#if---elif---else\n"
      ],
      "metadata": {
        "id": "FaLwrFg4wEfA"
      },
      "execution_count": null,
      "outputs": []
    },
    {
      "cell_type": "code",
      "source": [
        "#write a program to print weather the student is pass or fail?\n",
        "marks = float(input(\"enter the marks:\"))\n",
        "total_marks = 100\n",
        "#condition is more than equal to 35marks student is pass,\n",
        "if marks >= 35:\n",
        "  print(\"congratulations\")\n",
        "  print(f'you have passed with {marks} marks')\n",
        "else:\n",
        "  print(\"better lucknext time\")"
      ],
      "metadata": {
        "colab": {
          "base_uri": "https://localhost:8080/"
        },
        "id": "MN4lW09uwmS9",
        "outputId": "d83becc8-12e3-40f2-f33d-784fcdef1406"
      },
      "execution_count": null,
      "outputs": [
        {
          "output_type": "stream",
          "name": "stdout",
          "text": [
            "enter the marks:55\n",
            "congratulations\n",
            "you have passed with 55.0 marks\n"
          ]
        }
      ]
    },
    {
      "cell_type": "code",
      "source": [
        "#write a program to print the given number is \"+ve\", \"-ve\", or neutral?\n",
        "A = float(input())\n",
        "if A > 0:\n",
        " print(\"+ve\")\n",
        "elif A == 0:\n",
        "  print(\"neutral\")\n",
        "else:\n",
        "  print(\"-ve\")\n",
        "#where we can place the elif statement?\n",
        "#in b/w if and else"
      ],
      "metadata": {
        "colab": {
          "base_uri": "https://localhost:8080/"
        },
        "id": "KTmXhQZMyKnh",
        "outputId": "e1fde6ac-03f3-423a-dde3-9e08aace396e"
      },
      "execution_count": null,
      "outputs": [
        {
          "output_type": "stream",
          "name": "stdout",
          "text": [
            "-5\n",
            "-ve\n"
          ]
        }
      ]
    },
    {
      "cell_type": "code",
      "source": [
        "#write a program to check the given string is palindrome or not?\n",
        "#MOm\n",
        "#MADAm\n",
        "#MALAYalaM\n",
        "#WoW\n",
        "#HYDERABAD\n",
        "#KARNATAKA\n",
        "a = input(\"enter the string: \")\n",
        "b = a[::-1]\n",
        "if a.lower() == b.lower():\n",
        "  print(\"palindrome\")\n",
        "else:\n",
        "  print(\"not palindrome\")"
      ],
      "metadata": {
        "colab": {
          "base_uri": "https://localhost:8080/"
        },
        "id": "j2t1Kqwk1UyP",
        "outputId": "bdf18a9e-9bea-49bc-f539-daa3bae3383f"
      },
      "execution_count": null,
      "outputs": [
        {
          "output_type": "stream",
          "name": "stdout",
          "text": [
            "enter the string: MALAYalaM\n",
            "palindrome\n"
          ]
        }
      ]
    },
    {
      "cell_type": "code",
      "source": [
        "print(\"hyderabad\"==\"HYDERABAD\")"
      ],
      "metadata": {
        "colab": {
          "base_uri": "https://localhost:8080/"
        },
        "id": "mr8sRgqo47dd",
        "outputId": "7a56ebfa-2dfd-4a66-ff2b-2be553c35f23"
      },
      "execution_count": null,
      "outputs": [
        {
          "output_type": "stream",
          "name": "stdout",
          "text": [
            "False\n"
          ]
        }
      ]
    },
    {
      "cell_type": "markdown",
      "source": [
        "#logical operators"
      ],
      "metadata": {
        "id": "G9zyCCeZ4yk1"
      }
    },
    {
      "cell_type": "code",
      "source": [
        "#logical operators :- and, or, not\n",
        "print(10==10)\n",
        "print(10!=10)\n",
        "print(10<10)\n",
        "print(10>10)\n",
        "print(10<=10)\n",
        "print(10>=10)"
      ],
      "metadata": {
        "colab": {
          "base_uri": "https://localhost:8080/"
        },
        "id": "_fs_HE-445Rl",
        "outputId": "85f57ed7-43fb-445c-ab59-0d36c2f3c788"
      },
      "execution_count": null,
      "outputs": [
        {
          "output_type": "stream",
          "name": "stdout",
          "text": [
            "True\n",
            "False\n",
            "False\n",
            "False\n",
            "True\n",
            "True\n"
          ]
        }
      ]
    },
    {
      "cell_type": "code",
      "source": [
        "#not :- it reverse the actual output--->(not())\n",
        "print(not(10!=10))\n",
        "print(not(10==10))"
      ],
      "metadata": {
        "id": "wzJVoQeq5o6R",
        "colab": {
          "base_uri": "https://localhost:8080/"
        },
        "outputId": "8df62442-fadb-4601-dbde-3ce88fe65b14"
      },
      "execution_count": null,
      "outputs": [
        {
          "output_type": "stream",
          "name": "stdout",
          "text": [
            "True\n",
            "False\n"
          ]
        }
      ]
    },
    {
      "cell_type": "code",
      "source": [
        "#and:- it executes the code when all the conditions are true or satisfies\n",
        "a = 10\n",
        "b = 56\n",
        "c = 455\n",
        "#if a is less than b and b is less than c print all the conditions satisfied.\n",
        "if a<b and b<c:\n",
        "  print(\"all the conditions are satisfied\")\n",
        "else:\n",
        "  print(\"all the conditions are not satisfied\")"
      ],
      "metadata": {
        "colab": {
          "base_uri": "https://localhost:8080/"
        },
        "id": "l1kL2wMg6IaO",
        "outputId": "b38280f7-328f-4bff-a65f-726065cd8aa1"
      },
      "execution_count": null,
      "outputs": [
        {
          "output_type": "stream",
          "name": "stdout",
          "text": [
            "all the conditions are satisfied\n"
          ]
        }
      ]
    },
    {
      "cell_type": "code",
      "source": [
        "#or :- any one of the condition is true then \"or\" operator execute the code\n",
        "a = 10\n",
        "b = 56\n",
        "c = 455\n",
        "if b>a or c>b or c<a:\n",
        "  print(\"all the conditions are satisfied\")\n",
        "else:\n",
        "  print(\"all the conditions are not satisfied\")"
      ],
      "metadata": {
        "colab": {
          "base_uri": "https://localhost:8080/"
        },
        "id": "AzndkZKG7GSD",
        "outputId": "06c6372e-cf4c-4b4a-cb2c-019b1533939b"
      },
      "execution_count": null,
      "outputs": [
        {
          "output_type": "stream",
          "name": "stdout",
          "text": [
            "all the conditions are satisfied\n"
          ]
        }
      ]
    },
    {
      "cell_type": "code",
      "source": [
        "a = 10\n",
        "b = 56\n",
        "c = 455\n",
        "if a == b or c > a or a > 500 or b > 200:\n",
        "  print(\"all the conditions are satisfied\")\n",
        "else:\n",
        "  print(\"all the conditions are not satisfied\")\n"
      ],
      "metadata": {
        "colab": {
          "base_uri": "https://localhost:8080/"
        },
        "id": "e4WN4ICx8Fxh",
        "outputId": "a9de8950-fb7b-42ee-ea07-b094d99d331c"
      },
      "execution_count": null,
      "outputs": [
        {
          "output_type": "stream",
          "name": "stdout",
          "text": [
            "all the conditions are satisfied\n"
          ]
        }
      ]
    },
    {
      "cell_type": "code",
      "source": [
        "#Nested conditions:- writing a condition inside the another condition is known as nested conditions\n",
        "a = 45\n",
        "#i will check a is grater than 10 or not\n",
        "if a > 10:\n",
        "  print(\"a is grater than 10\")\n",
        "  if a > 20:\n",
        "    print(\"a is grater than 20\")\n",
        "    if a > 30:\n",
        "      print(\"a is grater than 30\")\n",
        "      if a > 40:\n",
        "        print(\"a is grater than 40\")\n",
        "        if a > 50:\n",
        "          print(\"a is grater than 50\")\n",
        "        else:\n",
        "          print(\"a is less than 50\")\n",
        "      else:\n",
        "         print(\"a is less than 40\")\n",
        "    else:\n",
        "      print(\"a is lesser than 30\")\n",
        "  else:\n",
        "    print(\"a is less than 20\")\n",
        "else:\n",
        "  print(\"a is less than 10\")\n"
      ],
      "metadata": {
        "colab": {
          "base_uri": "https://localhost:8080/"
        },
        "id": "CWUhL4Sp8-03",
        "outputId": "d8f3eb60-c0a4-410d-b5cf-6b3c0b7b9872"
      },
      "execution_count": null,
      "outputs": [
        {
          "output_type": "stream",
          "name": "stdout",
          "text": [
            "a is grater than 10\n",
            "a is grater than 20\n",
            "a is grater than 30\n",
            "a is grater than 40\n",
            "a is less than 50\n"
          ]
        }
      ]
    },
    {
      "cell_type": "code",
      "source": [
        "#i will check a is greater than 10 or not\n",
        "if a > 10:\n",
        "  print(\"a is greater thgan 10\")\n",
        "  if a > 20:\n",
        "    print(\"a is greater than 20\")\n",
        "    if a > 30:\n",
        "      print(\"a is greater than 30\")\n",
        "      if a > 40:\n",
        "        print(\"a is greater than 40\")\n",
        "      else:\n",
        "        print(\"a is less than 40\")\n",
        "    else:\n",
        "       print(\"a is less than 30\")\n",
        "  else:\n",
        "      print(\"a is less than 20\")\n",
        "else:\n",
        "  print(\"a is less than10\")\n"
      ],
      "metadata": {
        "colab": {
          "base_uri": "https://localhost:8080/"
        },
        "id": "-PeGeIdz_oZp",
        "outputId": "2c569d63-05a1-4d1d-e5fb-58c61fa28821"
      },
      "execution_count": null,
      "outputs": [
        {
          "output_type": "stream",
          "name": "stdout",
          "text": [
            "a is greater thgan 10\n",
            "a is greater than 20\n",
            "a is greater than 30\n",
            "a is less than 40\n"
          ]
        }
      ]
    },
    {
      "cell_type": "code",
      "source": [
        "marks = int(input(\"enter the marks:\"))\n",
        "a = 40\n",
        "#here i am giving the grades\n",
        "#40-60---->D\n",
        "#60-70---->C\n",
        "#70-80---->B\n",
        "#80-90---->A\n",
        "if marks >= a:\n",
        "  if marks >=40 and marks <=60:\n",
        "    print(\"D grade\")\n",
        "  if marks >=60 and marks <= 70:\n",
        "    print(\"C grade\")\n",
        "  if marks >=70 and marks <=80:\n",
        "    print(\"B grade\")\n",
        "  elif marks >=80 and marks <=90:\n",
        "    print(\"A grade\")\n",
        "  else:\n",
        "    marks >=101\n",
        "    print(\"you have entered the wrong marks\")\n",
        "else:\n",
        "    print(\"failed\")"
      ],
      "metadata": {
        "colab": {
          "base_uri": "https://localhost:8080/"
        },
        "id": "8QLxkW6k_-I_",
        "outputId": "b99c8dfa-e765-4e04-9e10-d5a01cc02378"
      },
      "execution_count": null,
      "outputs": [
        {
          "output_type": "stream",
          "name": "stdout",
          "text": [
            "enter the marks:71\n",
            "B grade\n"
          ]
        }
      ]
    },
    {
      "cell_type": "code",
      "source": [
        "#pass:- pass is nouthing but a null place holder when you execute the code by using the \"pass\" keyword nothing will happenes\n",
        "marks = 55\n",
        "passing = 40\n",
        "if marks >= passing:\n",
        "  pass"
      ],
      "metadata": {
        "id": "tRJv5yKQMAfi"
      },
      "execution_count": null,
      "outputs": []
    },
    {
      "cell_type": "code",
      "source": [
        "units = int(input(\"units\"))\n",
        "if units <=100 :\n",
        "            print(\"no charge\")\n",
        "elif units <100:\n",
        "            print(100*5)\n",
        "elif units <=200:\n",
        "            print(100*10)\n"
      ],
      "metadata": {
        "colab": {
          "base_uri": "https://localhost:8080/"
        },
        "id": "_vf9WVcgSfPq",
        "outputId": "1d7ddb39-3713-4b4f-ddfd-f878c08ec964"
      },
      "execution_count": null,
      "outputs": [
        {
          "output_type": "stream",
          "name": "stdout",
          "text": [
            "units10\n",
            "no charge\n"
          ]
        }
      ]
    },
    {
      "cell_type": "code",
      "source": [
        "marks = int(input(\"enter marks:\"))\n",
        "if marks >90:\n",
        "  print(\"grade A\")\n",
        "elif marks >80 and marks <=90:\n",
        "  print(\"grade B\")\n",
        "elif marks >=60 and marks <=80:\n",
        "  print(\"grade C\")\n",
        "elif marks <60:\n",
        "  print(\"grade D\")\n",
        "else:\n",
        "  marks <=100\n",
        "  print(\"invallid marks\")\n"
      ],
      "metadata": {
        "colab": {
          "base_uri": "https://localhost:8080/"
        },
        "id": "56gv7jc6Uzz8",
        "outputId": "43d50076-6715-4010-b3b2-b2ffc2be8c73"
      },
      "execution_count": null,
      "outputs": [
        {
          "output_type": "stream",
          "name": "stdout",
          "text": [
            "enter marks:60\n",
            "grade C\n"
          ]
        }
      ]
    },
    {
      "cell_type": "code",
      "source": [
        "price = int(input(\"enter cost price: \"))\n",
        "if price >100000:\n",
        "  print(\"15% tax\")\n",
        "elif price >50000 and price <=100000:\n",
        "  print(\"10% tax\")\n",
        "elif price <=50000 and price >=100:\n",
        "  print(\"5% tax\")\n",
        "else:\n",
        "  price <=100 and price >=1\n",
        "  print(\"0% tax\")"
      ],
      "metadata": {
        "colab": {
          "base_uri": "https://localhost:8080/"
        },
        "id": "p6P_pydU5lIk",
        "outputId": "f1b58a50-36a9-4a1d-d8bb-1eb7c7dd7477"
      },
      "execution_count": null,
      "outputs": [
        {
          "output_type": "stream",
          "name": "stdout",
          "text": [
            "enter cost price: 1\n",
            "0% tax\n"
          ]
        }
      ]
    },
    {
      "cell_type": "code",
      "source": [
        "#write a program to accept a number from 1 to 7 and display the name of the day like 1 for sunday, 2 for monday and so on.\n",
        "num = int(input(\"print number: \"))\n",
        "if num == 1:\n",
        "  print(\"sunday\")\n",
        "elif num == 2:\n",
        "  print(\"monday\")\n",
        "elif num == 3:\n",
        "  print(\"tuesday\")\n",
        "elif num == 4:\n",
        "  print(\"wednesday\")\n",
        "elif num == 5:\n",
        "  print(\"thursday\")\n",
        "elif num == 6:\n",
        "  print(\"friday\")\n",
        "elif num == 7:\n",
        "  print(\"saturday\")\n",
        "else:\n",
        "  num >=8\n",
        "  print(\"no day\")"
      ],
      "metadata": {
        "colab": {
          "base_uri": "https://localhost:8080/"
        },
        "id": "suz842XS-8zM",
        "outputId": "8ac231cd-16bb-4604-ea2b-09f1d1263b0c"
      },
      "execution_count": null,
      "outputs": [
        {
          "output_type": "stream",
          "name": "stdout",
          "text": [
            "print number: 9\n",
            "no day\n"
          ]
        }
      ]
    },
    {
      "cell_type": "markdown",
      "source": [
        "\n",
        "#LOOPS"
      ],
      "metadata": {
        "id": "L3W4IAbB7w6g"
      }
    },
    {
      "cell_type": "code",
      "source": [
        "#print the multiples of 2 in the given collection?\n",
        "#[1,2,3,4]----[2,4,6,8]\n",
        "a = (1,2,3,4)\n",
        "print(a[0]*2,a[1]*2,a[2]*2,a[3]*2)"
      ],
      "metadata": {
        "colab": {
          "base_uri": "https://localhost:8080/"
        },
        "id": "9gKsXbl28BA8",
        "outputId": "4efac184-fcb5-4654-d7cc-3ffd93c63b97"
      },
      "execution_count": null,
      "outputs": [
        {
          "output_type": "stream",
          "name": "stdout",
          "text": [
            "2 4 6 8\n"
          ]
        }
      ]
    },
    {
      "cell_type": "code",
      "source": [
        "#what is loops?\n",
        "#we use the loops to avoid the duplicate codes.\n",
        "#loops are used to iterate and check conditions over the conditions.\n",
        "#how many types of coades are there?\n",
        "#there are 2 types of codes\n",
        "#1.DRY code---> D:dont, R:repeat, Y:yourself\n",
        "#2.WET code---> W:write, E:everything, T:twice\n",
        "\n",
        "#Types of loops\n",
        "#while\n",
        "#for"
      ],
      "metadata": {
        "id": "14eT6yqQ-9c5"
      },
      "execution_count": null,
      "outputs": []
    },
    {
      "cell_type": "code",
      "source": [
        "#while LOOP:-\n",
        "#it runs a set of instructions as long as the conditions remains true.\n",
        "target = 5\n",
        "initial_count = 1\n",
        "while initial_count <= target:\n",
        "  print(initial_count)\n",
        "  initial_count = initial_count +2"
      ],
      "metadata": {
        "colab": {
          "base_uri": "https://localhost:8080/"
        },
        "id": "-3cb5iEPBoAD",
        "outputId": "962effb8-465c-4bfb-e1c3-d8a30da7d557"
      },
      "execution_count": null,
      "outputs": [
        {
          "output_type": "stream",
          "name": "stdout",
          "text": [
            "1\n",
            "3\n",
            "5\n"
          ]
        }
      ]
    },
    {
      "cell_type": "code",
      "source": [
        "#write a program to print 1 to 10 numbers by using while loop\n",
        "i = 0\n",
        "while i<=10:\n",
        "  print(i)\n",
        "  i=i+1"
      ],
      "metadata": {
        "colab": {
          "base_uri": "https://localhost:8080/"
        },
        "id": "OF68EzKnGz40",
        "outputId": "a3363818-b7d5-4af4-a9c8-f1cc902034f1"
      },
      "execution_count": null,
      "outputs": [
        {
          "output_type": "stream",
          "name": "stdout",
          "text": [
            "0\n",
            "1\n",
            "2\n",
            "3\n",
            "4\n",
            "5\n",
            "6\n",
            "7\n",
            "8\n",
            "9\n",
            "10\n"
          ]
        }
      ]
    },
    {
      "cell_type": "code",
      "source": [
        "i = 0\n",
        "while i<=10:\n",
        "  print(i)\n",
        "  i=i+1\n",
        "  #Note:- when you use \"condition\" [i=i+1] after the print() the output can be exact range of number\n",
        "\"\"\"if you are using the condition [i=i+1] before print statement the output can be increased by 1 with respect to range of numbers\"\"\""
      ],
      "metadata": {
        "colab": {
          "base_uri": "https://localhost:8080/",
          "height": 226
        },
        "id": "a6H_WANWJNW0",
        "outputId": "0862da30-b8ce-49b4-b379-812a0c7b6283"
      },
      "execution_count": null,
      "outputs": [
        {
          "output_type": "stream",
          "name": "stdout",
          "text": [
            "0\n",
            "1\n",
            "2\n",
            "3\n",
            "4\n",
            "5\n",
            "6\n",
            "7\n",
            "8\n",
            "9\n",
            "10\n"
          ]
        },
        {
          "output_type": "execute_result",
          "data": {
            "text/plain": [
              "'if you are using the condition [i=i+1] before print statement the output can be increased by 1 with respect to range of numbers'"
            ],
            "application/vnd.google.colaboratory.intrinsic+json": {
              "type": "string"
            }
          },
          "metadata": {},
          "execution_count": 18
        }
      ]
    },
    {
      "cell_type": "code",
      "source": [
        "#write a programe to run a lift if the use press button 4 then the lift ha stop.\n",
        "target = int(input(\"enter your floor number: \"))\n",
        "ground_floor = 0\n",
        "while ground_floor <= target:\n",
        "  print(f\"younhave reached {ground_floor} floor\")\n",
        "  ground_floor = ground_floor+1"
      ],
      "metadata": {
        "colab": {
          "base_uri": "https://localhost:8080/"
        },
        "id": "FAJwGubaKEgn",
        "outputId": "875aa909-b1ef-4752-a2ba-763f79f161a9"
      },
      "execution_count": null,
      "outputs": [
        {
          "output_type": "stream",
          "name": "stdout",
          "text": [
            "enter your floor number: 4\n",
            "younhave reached 0 floor\n",
            "younhave reached 1 floor\n",
            "younhave reached 2 floor\n",
            "younhave reached 3 floor\n",
            "younhave reached 4 floor\n"
          ]
        }
      ]
    },
    {
      "cell_type": "code",
      "source": [
        "#write a program to print 10 digits using while loop in seperate lines?\n",
        "a = int(input(\"enter the number: \"))\n",
        "b = 0\n",
        "while b<=a:\n",
        "  print(b)\n",
        "  b = b+1"
      ],
      "metadata": {
        "id": "MR1Gc9C64CdE",
        "colab": {
          "base_uri": "https://localhost:8080/"
        },
        "outputId": "65041a52-0edb-4865-f2b2-53351ac895db"
      },
      "execution_count": null,
      "outputs": [
        {
          "output_type": "stream",
          "name": "stdout",
          "text": [
            "enter the number: 5\n",
            "0\n",
            "1\n",
            "2\n",
            "3\n",
            "4\n",
            "5\n"
          ]
        }
      ]
    },
    {
      "cell_type": "code",
      "source": [
        "a = int(input(\"enter the number: \"))\n",
        "b = 0\n",
        "while b <= a:\n",
        "  print(b)\n",
        "  b = b + 2"
      ],
      "metadata": {
        "colab": {
          "base_uri": "https://localhost:8080/"
        },
        "id": "h25gGjDFvuVa",
        "outputId": "2442a0ce-1e74-4d12-aa2c-1688a509630f"
      },
      "execution_count": null,
      "outputs": [
        {
          "output_type": "stream",
          "name": "stdout",
          "text": [
            "enter the number: 10\n",
            "0\n",
            "2\n",
            "4\n",
            "6\n",
            "8\n",
            "10\n"
          ]
        }
      ]
    },
    {
      "cell_type": "code",
      "source": [
        "#fibonacci series:- Fibonacci series upto 10 terms is: 0, 1, 1, 2, 3, 5, 8, 13, 21, 34\n",
        "a = 0\n",
        "b = 1\n",
        "while a <= 50:\n",
        "  print(a)\n",
        "  a = b+1\n",
        "  a = a+b"
      ],
      "metadata": {
        "id": "vR8Qy2Sd0fgr"
      },
      "execution_count": null,
      "outputs": []
    },
    {
      "cell_type": "code",
      "source": [],
      "metadata": {
        "id": "ON3cDK5j0fNi"
      },
      "execution_count": null,
      "outputs": []
    },
    {
      "cell_type": "code",
      "source": [
        "#for loop:- it runs a set of instructions for each and every element ina collection.\n",
        "number = [10,20,30,40,50]\n",
        "for i in number:\n",
        "  print(i*2)"
      ],
      "metadata": {
        "colab": {
          "base_uri": "https://localhost:8080/"
        },
        "id": "XAwQNEw0wlKj",
        "outputId": "b83c6bb7-1bb9-43b9-de0c-2af393960b44"
      },
      "execution_count": null,
      "outputs": [
        {
          "output_type": "stream",
          "name": "stdout",
          "text": [
            "20\n",
            "40\n",
            "60\n",
            "80\n",
            "100\n"
          ]
        }
      ]
    },
    {
      "cell_type": "code",
      "source": [
        "=#print (hello world) in seperate lines by using loops?\n",
        "a = \"hello world\"\n",
        "for i in a:\n",
        "  print(i)"
      ],
      "metadata": {
        "colab": {
          "base_uri": "https://localhost:8080/"
        },
        "id": "kzInogq6x2RP",
        "outputId": "cabf0652-d88c-4f5c-dc13-9687c9bf2633"
      },
      "execution_count": null,
      "outputs": [
        {
          "output_type": "stream",
          "name": "stdout",
          "text": [
            "h\n",
            "e\n",
            "l\n",
            "l\n",
            "o\n",
            " \n",
            "w\n",
            "o\n",
            "r\n",
            "l\n",
            "d\n"
          ]
        }
      ]
    },
    {
      "cell_type": "code",
      "source": [
        "#is loops can run through each and every element in a collection.---->TRUE"
      ],
      "metadata": {
        "id": "fG8_XRDczH4U"
      },
      "execution_count": null,
      "outputs": []
    },
    {
      "cell_type": "code",
      "source": [
        "#write a proigram to print \"hello world\" upto length of the string?\n",
        "#if length is 11 print 11 times next if length is 15 print 15 times?\n",
        "a = \"hello world\"\n",
        "for name in a:\n",
        "  print(a)"
      ],
      "metadata": {
        "colab": {
          "base_uri": "https://localhost:8080/"
        },
        "id": "PTtxaGNwzYKg",
        "outputId": "eca8fb01-53e2-45c6-c7f5-321d3020f6f5"
      },
      "execution_count": null,
      "outputs": [
        {
          "output_type": "stream",
          "name": "stdout",
          "text": [
            "hello world\n",
            "hello world\n",
            "hello world\n",
            "hello world\n",
            "hello world\n",
            "hello world\n",
            "hello world\n",
            "hello world\n",
            "hello world\n",
            "hello world\n",
            "hello world\n"
          ]
        }
      ]
    },
    {
      "cell_type": "code",
      "source": [
        "#Break statement:- it terminates or breaks the loop once the condition is satisfies\n",
        "number = [10,20,30,40,50]\n",
        "#break the loop when iteration reaches to 30\n",
        "for i in number:\n",
        "  if i == 30:\n",
        "    break\n",
        "  print(i)"
      ],
      "metadata": {
        "colab": {
          "base_uri": "https://localhost:8080/"
        },
        "id": "pDqUP2Hmz8Fg",
        "outputId": "68ed48ca-e271-4d22-991e-ac6be6e3236f"
      },
      "execution_count": null,
      "outputs": [
        {
          "output_type": "stream",
          "name": "stdout",
          "text": [
            "10\n",
            "20\n"
          ]
        }
      ]
    },
    {
      "cell_type": "code",
      "source": [
        "number = [10,20,30,40,50]\n",
        "for i in number:\n",
        "  if i == 30:\n",
        "    print(i)\n",
        "    break\n"
      ],
      "metadata": {
        "colab": {
          "base_uri": "https://localhost:8080/"
        },
        "id": "JteWIQVb1M5o",
        "outputId": "83725578-7594-45eb-8578-b2c60825b6ce"
      },
      "execution_count": null,
      "outputs": [
        {
          "output_type": "stream",
          "name": "stdout",
          "text": [
            "30\n"
          ]
        }
      ]
    },
    {
      "cell_type": "code",
      "source": [
        "number = [10,20,30,40,50]\n",
        "for i in number:\n",
        "  if i == 30:\n",
        "    break\n",
        "    print(i)"
      ],
      "metadata": {
        "id": "NtcgqnhE2myd"
      },
      "execution_count": null,
      "outputs": []
    },
    {
      "cell_type": "code",
      "source": [
        "#if i use the print() before break why i am getting considered condition value?\n",
        "\"\"\"python is an interperted language means it will executes the code line by line\n",
        " when i have written print() before break. before executing the condition\n",
        " the iteration reaches to specific condition value so we can specify\n",
        " the value along with iterated values in output\"\"\""
      ],
      "metadata": {
        "id": "AJMXKgwX2sks"
      },
      "execution_count": null,
      "outputs": []
    },
    {
      "cell_type": "code",
      "source": [
        "#continue:- It skipps the particular iteration when the condition satisfies\n",
        "a = [10,20,30,40,50,60,70,80,90]\n",
        "for x in a:\n",
        "  if x == 40:\n",
        "    continue\n",
        "  print(x)"
      ],
      "metadata": {
        "colab": {
          "base_uri": "https://localhost:8080/"
        },
        "id": "gmknoydE3_2g",
        "outputId": "fe0efda0-d761-4e44-c455-43a2085f4562"
      },
      "execution_count": null,
      "outputs": [
        {
          "output_type": "stream",
          "name": "stdout",
          "text": [
            "10\n",
            "20\n",
            "30\n",
            "50\n",
            "60\n",
            "70\n",
            "80\n",
            "90\n"
          ]
        }
      ]
    },
    {
      "cell_type": "code",
      "source": [
        "#can we do multiple continues\n",
        "a = [10,20,30,40,50,60,70,80,90]\n",
        "for x in a:\n",
        "  if x in (30,50,70,80):\n",
        "    continue\n",
        "  print(x)"
      ],
      "metadata": {
        "colab": {
          "base_uri": "https://localhost:8080/"
        },
        "id": "RQ2_UE7x4jww",
        "outputId": "7432fe1d-ae95-41bc-9225-da0fc6d20aa6"
      },
      "execution_count": null,
      "outputs": [
        {
          "output_type": "stream",
          "name": "stdout",
          "text": [
            "10\n",
            "20\n",
            "40\n",
            "60\n",
            "90\n"
          ]
        }
      ]
    },
    {
      "cell_type": "markdown",
      "source": [
        "#Range"
      ],
      "metadata": {
        "id": "iPWu7WTu5rny"
      }
    },
    {
      "cell_type": "code",
      "source": [
        "#Note:- only range can be used in for loop\n",
        "#write a program to create a range of numbers?\n",
        "#range(end)\n",
        "for i in range(11):\n",
        "  print(i)"
      ],
      "metadata": {
        "colab": {
          "base_uri": "https://localhost:8080/"
        },
        "id": "rUBrABDu5vrr",
        "outputId": "4691e202-68a7-46dc-e46a-800f760b9110"
      },
      "execution_count": null,
      "outputs": [
        {
          "output_type": "stream",
          "name": "stdout",
          "text": [
            "0\n",
            "1\n",
            "2\n",
            "3\n",
            "4\n",
            "5\n",
            "6\n",
            "7\n",
            "8\n",
            "9\n",
            "10\n"
          ]
        }
      ]
    },
    {
      "cell_type": "code",
      "source": [
        "#print \"hello world\" 6 timws\n",
        "for i in range(6):\n",
        "  print(\"hello world\")"
      ],
      "metadata": {
        "colab": {
          "base_uri": "https://localhost:8080/"
        },
        "id": "5Eueme706SYS",
        "outputId": "7ee4e097-8929-44dd-ebbd-0f48a34b929e"
      },
      "execution_count": null,
      "outputs": [
        {
          "output_type": "stream",
          "name": "stdout",
          "text": [
            "hello world\n",
            "hello world\n",
            "hello world\n",
            "hello world\n",
            "hello world\n",
            "hello world\n"
          ]
        }
      ]
    },
    {
      "cell_type": "code",
      "source": [
        "#range(start:end)\n",
        "#write a program to print range of values from 10 to 40?\n",
        "for i in range(10,12):\n",
        "  print(i)"
      ],
      "metadata": {
        "colab": {
          "base_uri": "https://localhost:8080/"
        },
        "id": "S8-jpf5Y6vD-",
        "outputId": "0bd589d7-28ad-4b0d-b353-192800bf54de"
      },
      "execution_count": null,
      "outputs": [
        {
          "output_type": "stream",
          "name": "stdout",
          "text": [
            "10\n",
            "11\n"
          ]
        }
      ]
    },
    {
      "cell_type": "code",
      "source": [
        "#write a program to print even nnumbers from 1to20\n",
        "#range(start,end,step)\n",
        "for i in range(2,21,2):\n",
        "  print(i)"
      ],
      "metadata": {
        "colab": {
          "base_uri": "https://localhost:8080/"
        },
        "id": "Mpw7dp767Fkh",
        "outputId": "0084989e-9cc3-4f7b-8aa7-b91af5907a87"
      },
      "execution_count": null,
      "outputs": [
        {
          "output_type": "stream",
          "name": "stdout",
          "text": [
            "2\n",
            "4\n",
            "6\n",
            "8\n",
            "10\n",
            "12\n",
            "14\n",
            "16\n",
            "18\n",
            "20\n"
          ]
        }
      ]
    },
    {
      "cell_type": "code",
      "source": [
        "#write a program to print odd nnumbers from 1to20\n",
        "for i in range(1,20,2):\n",
        "  print(i)"
      ],
      "metadata": {
        "colab": {
          "base_uri": "https://localhost:8080/"
        },
        "id": "48xtsK__25_Y",
        "outputId": "563d89c3-b317-4966-86f7-166e0c958406"
      },
      "execution_count": null,
      "outputs": [
        {
          "output_type": "stream",
          "name": "stdout",
          "text": [
            "1\n",
            "3\n",
            "5\n",
            "7\n",
            "9\n",
            "11\n",
            "13\n",
            "15\n",
            "17\n",
            "19\n"
          ]
        }
      ]
    },
    {
      "cell_type": "code",
      "source": [
        "#print even numbers in reverse order\n",
        "for i in range(20,0,-2):\n",
        "  print(i)"
      ],
      "metadata": {
        "id": "kZ4iJx8uBIZU",
        "colab": {
          "base_uri": "https://localhost:8080/"
        },
        "outputId": "68d8fa45-ab5d-47ea-b986-3a8de4ac56f3"
      },
      "execution_count": null,
      "outputs": [
        {
          "output_type": "stream",
          "name": "stdout",
          "text": [
            "20\n",
            "18\n",
            "16\n",
            "14\n",
            "12\n",
            "10\n",
            "8\n",
            "6\n",
            "4\n",
            "2\n"
          ]
        }
      ]
    },
    {
      "cell_type": "code",
      "source": [
        "#write a program to print tables\n",
        "num = int(input(\"enter the number: \"))\n",
        "for i in range(1,11):\n",
        "  print(i*num)"
      ],
      "metadata": {
        "colab": {
          "base_uri": "https://localhost:8080/"
        },
        "id": "uKLpg1nG4myF",
        "outputId": "a49d0822-ecd8-4cba-a318-9a40ee5747bb"
      },
      "execution_count": null,
      "outputs": [
        {
          "output_type": "stream",
          "name": "stdout",
          "text": [
            "enter the number: 3\n",
            "3\n",
            "6\n",
            "9\n",
            "12\n",
            "15\n",
            "18\n",
            "21\n",
            "24\n",
            "27\n",
            "30\n"
          ]
        }
      ]
    },
    {
      "cell_type": "code",
      "source": [
        "a = \"*\"\n",
        "for i in range(10,0,-1):\n",
        "  print(i*a)"
      ],
      "metadata": {
        "id": "v-TY6vXP6nWm",
        "colab": {
          "base_uri": "https://localhost:8080/"
        },
        "outputId": "f7c90e81-1961-4348-9786-417cc09e6b73"
      },
      "execution_count": null,
      "outputs": [
        {
          "output_type": "stream",
          "name": "stdout",
          "text": [
            "**********\n",
            "*********\n",
            "********\n",
            "*******\n",
            "******\n",
            "*****\n",
            "****\n",
            "***\n",
            "**\n",
            "*\n"
          ]
        }
      ]
    },
    {
      "cell_type": "code",
      "source": [],
      "metadata": {
        "id": "8V7rbiCNAW15"
      },
      "execution_count": null,
      "outputs": []
    },
    {
      "cell_type": "markdown",
      "source": [
        "#Collections"
      ],
      "metadata": {
        "id": "CAVdwKrbDr9R"
      }
    },
    {
      "cell_type": "code",
      "source": [
        "#4 types of collections in python\n",
        "#1. tuple---> () unchangable(immutable)\n",
        "#2. list---->[] changable(mutable)\n",
        "#3. set\n",
        "#4. dictionary\n"
      ],
      "metadata": {
        "id": "MRgDYlbKDvFS"
      },
      "execution_count": null,
      "outputs": []
    },
    {
      "cell_type": "code",
      "source": [
        "#1. List:- ---->  [] each element is seperated with coma(,)\n",
        "#-> is ordered, changable(mutable),an it allows the duplicates."
      ],
      "metadata": {
        "id": "1oib5sNEEO4c"
      },
      "execution_count": null,
      "outputs": []
    },
    {
      "cell_type": "code",
      "source": [
        "#it allows the duplicates\n",
        "l1 = [\"Apple\" , \"Banana\" ,12, \"cherries\" , \"lemon\" , \"orange\" , \"Apple\"]\n",
        "print(l1)\n",
        "print(type(l1))"
      ],
      "metadata": {
        "colab": {
          "base_uri": "https://localhost:8080/"
        },
        "id": "u4dvB7DVEfxA",
        "outputId": "8b48215b-a07d-458b-9ff5-2be655f8a5f7"
      },
      "execution_count": null,
      "outputs": [
        {
          "output_type": "stream",
          "name": "stdout",
          "text": [
            "['Apple', 'Banana', 12, 'cherries', 'lemon', 'orange', 'Apple']\n",
            "<class 'list'>\n"
          ]
        }
      ]
    },
    {
      "cell_type": "code",
      "source": [
        "#write a program and prove me that list can allow the duplicates?"
      ],
      "metadata": {
        "id": "2mjuGXXSFNi-"
      },
      "execution_count": null,
      "outputs": []
    },
    {
      "cell_type": "code",
      "source": [
        "#list is ordered.\n",
        "\"\"\"ordered :- the elements or the values in the list is having a specific index position number.\n",
        "Based on thix position number we are accessing the data\"\"\""
      ],
      "metadata": {
        "id": "ldMZkU0AFil1"
      },
      "execution_count": null,
      "outputs": []
    },
    {
      "cell_type": "code",
      "source": [
        "#how we can access the data in line?3\n",
        "#we can access it the slicing operators---->[] and index position numbers"
      ],
      "metadata": {
        "id": "Ix9aK8TfGCAm"
      },
      "execution_count": null,
      "outputs": []
    },
    {
      "cell_type": "code",
      "source": [
        "l2 = [\"Apple\" , \"Banana\" , \"cherries\" , \"kiwi\" , \"water malon\" , \"lemon\" , \"orange\"]\n",
        "#what is the length of this list?\n",
        "print(len(l2))"
      ],
      "metadata": {
        "colab": {
          "base_uri": "https://localhost:8080/"
        },
        "id": "53yadUdcGR-2",
        "outputId": "433d930a-fece-46c8-f1ff-1d2fb1f87d28"
      },
      "execution_count": null,
      "outputs": [
        {
          "output_type": "stream",
          "name": "stdout",
          "text": [
            "7\n"
          ]
        }
      ]
    },
    {
      "cell_type": "code",
      "source": [
        "l2 = [\"Apple\" , \"Banana\" , \"cherries\" , \"kiwi\" , \"water malon\" , \"lemon\" , \"orange\"]\n",
        "#print or access apple from above list\n",
        "print(l2[0])\n",
        "print(l2[3])"
      ],
      "metadata": {
        "colab": {
          "base_uri": "https://localhost:8080/"
        },
        "id": "4B2jFFj-GhhB",
        "outputId": "472c05fd-321f-4883-c77f-0e0857d110e6"
      },
      "execution_count": null,
      "outputs": [
        {
          "output_type": "stream",
          "name": "stdout",
          "text": [
            "Apple\n",
            "kiwi\n"
          ]
        }
      ]
    },
    {
      "cell_type": "code",
      "source": [
        "#print the range of items \"cherries\" , \"kiwi\" , \"water malon\" , \"lemon\" , \"orange\"\n",
        "#[start:end]\n",
        "l2 = [\"Apple\" , \"Banana\" , \"cherries\" , \"kiwi\" , \"water malon\" , \"lemon\" , \"orange\"]\n",
        "print(l2[2:6])"
      ],
      "metadata": {
        "colab": {
          "base_uri": "https://localhost:8080/"
        },
        "id": "Pw-gj4j_GyhO",
        "outputId": "29b637de-acd8-4950-d72c-15c9d8c09985"
      },
      "execution_count": null,
      "outputs": [
        {
          "output_type": "stream",
          "name": "stdout",
          "text": [
            "['cherries', 'kiwi', 'water malon', 'lemon']\n"
          ]
        }
      ]
    },
    {
      "cell_type": "code",
      "source": [
        "#use the negitive index and print the range of item?\n",
        "l2 = [\"Apple\" , \"Banana\" , \"cherries\" , \"kiwi\" , \"water malon\" , \"lemon\" , \"orange\"]\n",
        "print(l2[-3])\n",
        "print(l2[-3:-6:-1])"
      ],
      "metadata": {
        "colab": {
          "base_uri": "https://localhost:8080/"
        },
        "id": "lVHtDnz6HQcE",
        "outputId": "cb44afc5-134b-4cdc-81c7-5a7ea3fbff5d"
      },
      "execution_count": null,
      "outputs": [
        {
          "output_type": "stream",
          "name": "stdout",
          "text": [
            "water malon\n",
            "['water malon', 'kiwi', 'cherries']\n"
          ]
        }
      ]
    },
    {
      "cell_type": "code",
      "source": [
        "#print the list of even position elements\n",
        "l2 = [\"Apple\" , \"Banana\" , \"cherries\" , \"kiwi\" , \"water malon\" , \"lemon\" , \"orange\"]\n",
        "print(l2[::2])"
      ],
      "metadata": {
        "colab": {
          "base_uri": "https://localhost:8080/"
        },
        "id": "TzeGCs67HsGn",
        "outputId": "21eb8c39-1468-4030-df85-5aecba890a7f"
      },
      "execution_count": null,
      "outputs": [
        {
          "output_type": "stream",
          "name": "stdout",
          "text": [
            "['Apple', 'cherries', 'water malon', 'orange']\n"
          ]
        }
      ]
    },
    {
      "cell_type": "code",
      "source": [
        "#Reverse the entire list\n",
        "l2 = [\"Apple\" , \"Banana\" , \"cherries\" , \"kiwi\" , \"water malon\" , \"lemon\" , \"orange\"]\n",
        "print(l2[::-1])"
      ],
      "metadata": {
        "colab": {
          "base_uri": "https://localhost:8080/"
        },
        "id": "CWN58cFuIgd1",
        "outputId": "cf3748c2-c6c1-40de-e9b5-9eb8272cfbea"
      },
      "execution_count": null,
      "outputs": [
        {
          "output_type": "stream",
          "name": "stdout",
          "text": [
            "['orange', 'lemon', 'water malon', 'kiwi', 'cherries', 'Banana', 'Apple']\n"
          ]
        }
      ]
    },
    {
      "cell_type": "code",
      "source": [
        "#can we convert a list in to string.\n",
        "#write a program to convert list into string.\n",
        "l3 = ['apple' , 'cherries' , 'watermelon' , 'orange']\n",
        "#use loop\n",
        "for x in l3:\n",
        "  print(x, end=\" \") #end:- when you do not need output in each line then we use (end=\"\")\n",
        "  #print(type(x))"
      ],
      "metadata": {
        "colab": {
          "base_uri": "https://localhost:8080/"
        },
        "id": "uMEExPi4Jqhh",
        "outputId": "b259654c-26e0-4644-9392-b49d377e524b"
      },
      "execution_count": null,
      "outputs": [
        {
          "output_type": "stream",
          "name": "stdout",
          "text": [
            "apple cherries watermelon orange "
          ]
        }
      ]
    },
    {
      "cell_type": "code",
      "source": [
        "#list is mutable or changable:-\n",
        "#how can u define a collection is mutable\n",
        "#it can be defined in 3 ways\n",
        "#1. change--->replace---> A-->B\n",
        "#2. Add the items in to the list\n",
        "#3. deleting the items in the list"
      ],
      "metadata": {
        "id": "3zs-9L2YLBAU"
      },
      "execution_count": null,
      "outputs": []
    },
    {
      "cell_type": "code",
      "source": [
        "#1. change--->replace--->items in list--->replacing in the list can be done with the help\n",
        "l4 = ['apple' , 'cherries' , 'watermelon' , 'orange']\n",
        "l4[3] = \"strawberry\"\n",
        "print(l4)"
      ],
      "metadata": {
        "colab": {
          "base_uri": "https://localhost:8080/"
        },
        "id": "M2oLIq_4Lu7Q",
        "outputId": "4c00d6bd-35c7-4417-8aad-c4fc3cf7d3eb"
      },
      "execution_count": null,
      "outputs": [
        {
          "output_type": "stream",
          "name": "stdout",
          "text": [
            "['apple', 'cherries', 'watermelon', 'strawberry']\n"
          ]
        }
      ]
    },
    {
      "cell_type": "code",
      "source": [
        "l4 = [10,30,50,40]\n",
        "l4[3] = 20\n",
        "print(l4)"
      ],
      "metadata": {
        "colab": {
          "base_uri": "https://localhost:8080/"
        },
        "id": "qjjqnULZUHZl",
        "outputId": "ab7d7638-0770-4eec-fef4-4c17a9bdd25e"
      },
      "execution_count": null,
      "outputs": [
        {
          "output_type": "stream",
          "name": "stdout",
          "text": [
            "[10, 30, 50, 20]\n"
          ]
        }
      ]
    },
    {
      "cell_type": "code",
      "source": [
        "#if u want to replace the range of items in the list\n",
        "l4 = ['apple' , 'cherries' , 'watermelon' , 'orange' , 'cherry' , 'banana']\n",
        "l4[0:2] = \"mango\", \"orange\"\n",
        "print(l4)"
      ],
      "metadata": {
        "colab": {
          "base_uri": "https://localhost:8080/"
        },
        "id": "XH1MbkZxMd3N",
        "outputId": "f605a7cc-6091-4e79-905e-1101867d068d"
      },
      "execution_count": null,
      "outputs": [
        {
          "output_type": "stream",
          "name": "stdout",
          "text": [
            "['mango', 'orange', 'watermelon', 'orange', 'cherry', 'banana']\n"
          ]
        }
      ]
    },
    {
      "cell_type": "code",
      "source": [
        "l4 = ['apple' , 'cherries' , 'watermelon' , 'orange' , 'cherry' , 'banana']\n",
        "l4[0:4] = \"cashew\", \"dry grapes\"\n",
        "print(l4)"
      ],
      "metadata": {
        "id": "ZPLQc1RbMvCr",
        "colab": {
          "base_uri": "https://localhost:8080/"
        },
        "outputId": "db5d640d-8ccc-497b-fd54-ddbf9ccbabcd"
      },
      "execution_count": null,
      "outputs": [
        {
          "output_type": "stream",
          "name": "stdout",
          "text": [
            "['cashew', 'dry grapes', 'cherry', 'banana']\n"
          ]
        }
      ]
    },
    {
      "cell_type": "code",
      "source": [
        "#2. Add the items in the list\n",
        "#append() by default it will add the items in the list in end position\n",
        "l5 = ['apple' , 'cherries' , 'watermelon' , 'orange' , 'cherry' , 'banana']\n",
        "l5.append(\"muskmelon\")\n",
        "print(l5)"
      ],
      "metadata": {
        "colab": {
          "base_uri": "https://localhost:8080/"
        },
        "id": "7MU90DUq65Of",
        "outputId": "aab36ad0-ebae-4696-973c-2a06d49bd168"
      },
      "execution_count": null,
      "outputs": [
        {
          "output_type": "stream",
          "name": "stdout",
          "text": [
            "['apple', 'cherries', 'watermelon', 'orange', 'cherry', 'banana', 'muskmelon']\n"
          ]
        }
      ]
    },
    {
      "cell_type": "code",
      "source": [
        "#if i want to add the element in particular index position.\n",
        "#insert(index,'new item name')\n",
        "l5 = ['apple' , 'cherries' , 'watermelon' , 'orange' , 'cherry' , 'banana']\n",
        "l5.insert(1,'lemon') #note you can not insert multiple values in to the list\n",
        "print(l5)"
      ],
      "metadata": {
        "colab": {
          "base_uri": "https://localhost:8080/"
        },
        "id": "3nsfGflc8Cq_",
        "outputId": "4838db13-2880-4f57-a82b-012d1aa4f971"
      },
      "execution_count": null,
      "outputs": [
        {
          "output_type": "stream",
          "name": "stdout",
          "text": [
            "['apple', 'lemon', 'cherries', 'watermelon', 'orange', 'cherry', 'banana']\n"
          ]
        }
      ]
    },
    {
      "cell_type": "code",
      "source": [
        "#3. extend:- adding\n",
        "l = [10,20,30,40]\n",
        "l2 = ['apple' , 'cherries' , 'watermelon' , 'orange' , 'cherry' , 'banana']\n",
        "#here we give the 1st collection name the another collection elements is going\n",
        "l2.append(l)\n",
        "print(l2)"
      ],
      "metadata": {
        "id": "QLgD7jTb8-a_",
        "colab": {
          "base_uri": "https://localhost:8080/"
        },
        "outputId": "2f0e00d5-4347-4c3a-c673-1adcb28a0a57"
      },
      "execution_count": null,
      "outputs": [
        {
          "output_type": "stream",
          "name": "stdout",
          "text": [
            "['apple', 'cherries', 'watermelon', 'orange', 'cherry', 'banana', [10, 20, 30, 40]]\n"
          ]
        }
      ]
    },
    {
      "cell_type": "code",
      "source": [
        "#from above o/p how can we access the elements\n",
        "l = [10,20,30,40]\n",
        "l2 = ['apple' , 'cherries' , 'watermelon' , 'orange' , 'cherry' , 'banana']\n",
        "l2.extend(l)\n",
        "print(l2)\n",
        "print(len(l2))"
      ],
      "metadata": {
        "colab": {
          "base_uri": "https://localhost:8080/"
        },
        "id": "eJoM5mUZR8Qj",
        "outputId": "6fa402bc-fd0d-4c0a-d12e-92f999ad6d97"
      },
      "execution_count": null,
      "outputs": [
        {
          "output_type": "stream",
          "name": "stdout",
          "text": [
            "['apple', 'cherries', 'watermelon', 'orange', 'cherry', 'banana', 10, 20, 30, 40]\n",
            "10\n"
          ]
        }
      ]
    },
    {
      "cell_type": "code",
      "source": [
        "l3 = ['apple' , 'cherries' , 'watermelon' , 'orange']\n",
        "l4 = [10,20]\n",
        "#write a program to add the elements to l3 at 2nd index positionl4[0:2] = \"mango\", \"orange\"\n",
        "l3.insert(2,l4)\n",
        "print(l3)"
      ],
      "metadata": {
        "colab": {
          "base_uri": "https://localhost:8080/"
        },
        "id": "OTVIG0ntSoDY",
        "outputId": "27865b32-64a9-48a9-a6ad-fde94c3b0c4e"
      },
      "execution_count": null,
      "outputs": [
        {
          "output_type": "stream",
          "name": "stdout",
          "text": [
            "['apple', 'cherries', [10, 20], 'watermelon', 'orange']\n"
          ]
        }
      ]
    },
    {
      "cell_type": "markdown",
      "source": [
        "#delete or remove"
      ],
      "metadata": {
        "id": "FTFHZPrtVnDg"
      }
    },
    {
      "cell_type": "code",
      "source": [
        "#remove---> used to remove the element\n",
        "l5 = ['apple', 'cherries', [10, 20], 'watermelon', 'orange']\n",
        "#delete cherries\n",
        "l5.remove(\"cherries\")\n",
        "print(l5)"
      ],
      "metadata": {
        "colab": {
          "base_uri": "https://localhost:8080/"
        },
        "id": "Uff-2VHAVO_L",
        "outputId": "f7b66a48-3158-43f3-ba29-29f4c7e7ea50"
      },
      "execution_count": null,
      "outputs": [
        {
          "output_type": "stream",
          "name": "stdout",
          "text": [
            "['apple', [10, 20], 'watermelon', 'orange']\n"
          ]
        }
      ]
    },
    {
      "cell_type": "code",
      "source": [
        "#pop---> used to remove the single element.\n",
        "l5 = ['apple', 'cherries', '10, 20,', 'watermelon', 'orange']\n",
        "l5.pop(1)\n",
        "print(l5)"
      ],
      "metadata": {
        "colab": {
          "base_uri": "https://localhost:8080/"
        },
        "id": "R-8TDJYhWEqn",
        "outputId": "dfffa7fe-c59e-43f3-9db6-c44dd2f5b90a"
      },
      "execution_count": null,
      "outputs": [
        {
          "output_type": "stream",
          "name": "stdout",
          "text": [
            "['apple', '10, 20,', 'watermelon', 'orange']\n"
          ]
        }
      ]
    },
    {
      "cell_type": "code",
      "source": [
        "#delete ----> it deletes multiple elementes.\n",
        "l6 = ['apple' , 'cherries' , 'watermelon' , 'orange' , 'cherry' , 'banana']\n",
        "#write a program to delete range of items in the above collections\n",
        "#[2:5]\n",
        "del l6[2:5]\n",
        "print(l6)"
      ],
      "metadata": {
        "colab": {
          "base_uri": "https://localhost:8080/"
        },
        "id": "BDMrZ6NhWzGu",
        "outputId": "17e5e53f-3e84-4fc6-9a4b-acc85d5a41f0"
      },
      "execution_count": null,
      "outputs": [
        {
          "output_type": "stream",
          "name": "stdout",
          "text": [
            "['apple', 'cherries', 'banana']\n"
          ]
        }
      ]
    },
    {
      "cell_type": "code",
      "source": [
        "l6 = ['apple' , 'cherries' , 'watermelon' , 'orange' , 'cherry' , 'banana']\n",
        "del l6[2:5]\n",
        "print(l6)"
      ],
      "metadata": {
        "colab": {
          "base_uri": "https://localhost:8080/"
        },
        "id": "Sq7gSG_XYYrv",
        "outputId": "3f5dc0b9-29e5-4774-da00-6fce9f4be04e"
      },
      "execution_count": null,
      "outputs": [
        {
          "output_type": "stream",
          "name": "stdout",
          "text": [
            "['apple', 'cherries', 'banana']\n"
          ]
        }
      ]
    },
    {
      "cell_type": "code",
      "source": [
        "del l6 #--->it will delete entire collection"
      ],
      "metadata": {
        "id": "Wfni6cT5ZUio"
      },
      "execution_count": null,
      "outputs": []
    },
    {
      "cell_type": "code",
      "source": [
        "from re import L\n",
        "l = [10,20,30,40]\n",
        "l2 = ['apple' , 'cherries' , 'watermelon' , 'orange']\n",
        "l2.update(l)\n",
        "print(l2)\n",
        "#NOTE:- \"Update()\" is not present in this list collection so you will rise attribute error"
      ],
      "metadata": {
        "id": "TeDD09TyZvN6"
      },
      "execution_count": null,
      "outputs": []
    },
    {
      "cell_type": "code",
      "source": [
        "#sorting can be done based on \"ascil\" number\n",
        "#ASCIL:- american standared code for information inter change."
      ],
      "metadata": {
        "id": "J4YLlSWDaaFT"
      },
      "execution_count": null,
      "outputs": []
    },
    {
      "cell_type": "code",
      "source": [
        "l2 = ['mango', 'apple', 'pineapple', 'grapes', 'kiwi', 'watermellon']\n",
        "#insert \"apple\" in index position 1\n",
        "l2.insert(5,\"gowa\")\n",
        "print(l2)"
      ],
      "metadata": {
        "colab": {
          "base_uri": "https://localhost:8080/"
        },
        "id": "4i8NXJesbWcR",
        "outputId": "420d1feb-2558-44c9-ebb0-4acf567085d9"
      },
      "execution_count": null,
      "outputs": [
        {
          "output_type": "stream",
          "name": "stdout",
          "text": [
            "['mango', 'apple', 'pineapple', 'grapes', 'kiwi', 'gowa', 'watermellon']\n"
          ]
        }
      ]
    },
    {
      "cell_type": "code",
      "source": [
        "#sort the above list\n",
        "l2 = ['gowa', 'grapes', 'kiwi', 'mango', 'pineapple', 'watermellon','apple']\n",
        "l2.sort() #default is ascending order (lower to high...A ascivalue is 65)\n",
        "print(l2)"
      ],
      "metadata": {
        "colab": {
          "base_uri": "https://localhost:8080/"
        },
        "id": "L_zwPZJZb84b",
        "outputId": "56db9049-6351-4407-801a-6e0cf420a664"
      },
      "execution_count": null,
      "outputs": [
        {
          "output_type": "stream",
          "name": "stdout",
          "text": [
            "['apple', 'gowa', 'grapes', 'kiwi', 'mango', 'pineapple', 'watermellon']\n"
          ]
        }
      ]
    },
    {
      "cell_type": "code",
      "source": [
        "#sort the above list in descending order\n",
        "l2.sort(reverse = True)\n",
        "print(l2)"
      ],
      "metadata": {
        "colab": {
          "base_uri": "https://localhost:8080/"
        },
        "id": "D7hOSKZscjgG",
        "outputId": "5627b8f2-3e1c-4355-a4ca-6305eae5ac28"
      },
      "execution_count": null,
      "outputs": [
        {
          "output_type": "stream",
          "name": "stdout",
          "text": [
            "['watermellon', 'pineapple', 'mango', 'kiwi', 'grapes', 'gowa', 'apple']\n"
          ]
        }
      ]
    },
    {
      "cell_type": "code",
      "source": [
        "#sort the above collection without case sensitivity\n",
        "l2.sort(reverse = False,key=str.lower)\n",
        "print(l2)"
      ],
      "metadata": {
        "colab": {
          "base_uri": "https://localhost:8080/"
        },
        "id": "NSz4Aovtcxoo",
        "outputId": "f023f10e-eddf-4c63-9c31-6ea4463133d8"
      },
      "execution_count": null,
      "outputs": [
        {
          "output_type": "stream",
          "name": "stdout",
          "text": [
            "['apple', 'gowa', 'grapes', 'kiwi', 'mango', 'pineapple', 'watermellon']\n"
          ]
        }
      ]
    },
    {
      "cell_type": "code",
      "source": [
        "l = ['mango', 'apple', 'pineapple', 'grapes', 'kiwi', 'watermellon']\n",
        "l[0:3:2] = \"banana\",\"gowa\"\n",
        "print(l)"
      ],
      "metadata": {
        "colab": {
          "base_uri": "https://localhost:8080/"
        },
        "id": "ISs_ZMJjdUTA",
        "outputId": "e3211a2b-ffda-4fa4-bb6c-ee66e321014f"
      },
      "execution_count": null,
      "outputs": [
        {
          "output_type": "stream",
          "name": "stdout",
          "text": [
            "['banana', 'apple', 'gowa', 'grapes', 'kiwi', 'watermellon']\n"
          ]
        }
      ]
    },
    {
      "cell_type": "code",
      "source": [],
      "metadata": {
        "id": "J2UfBk7UN2k_"
      },
      "execution_count": null,
      "outputs": []
    },
    {
      "cell_type": "markdown",
      "source": [
        "#Tuple"
      ],
      "metadata": {
        "id": "xsjlkjozfzXg"
      }
    },
    {
      "cell_type": "code",
      "source": [
        "#Tuple: ---> ()\n",
        "#ordered, immutable(unchangable), it allows the duplicates"
      ],
      "metadata": {
        "id": "sxWgz6_2f1wf"
      },
      "execution_count": null,
      "outputs": []
    },
    {
      "cell_type": "code",
      "source": [
        "t1 = ('mango', 'mango', 'apple', 'pineapple', 'grapes', 'kiwi', 'watermellon')\n",
        "print(t1)\n",
        "print(len(t1))\n",
        "print(type(t1))"
      ],
      "metadata": {
        "colab": {
          "base_uri": "https://localhost:8080/"
        },
        "id": "caFCNp5WgK5G",
        "outputId": "58d6f426-43f0-4eb2-943d-b6c89a1fd565"
      },
      "execution_count": null,
      "outputs": [
        {
          "output_type": "stream",
          "name": "stdout",
          "text": [
            "('mango', 'mango', 'apple', 'pineapple', 'grapes', 'kiwi', 'watermellon')\n",
            "7\n",
            "<class 'tuple'>\n"
          ]
        }
      ]
    },
    {
      "cell_type": "code",
      "source": [
        "#tuples are ordered:- accessing or displaying the spesific data by using index position numbers.\n",
        "#each element in the copllections is having its index position number\n",
        "t1 = ('mango', 'mango', 'apple', 'pineapple', 'grapes', 'kiwi', 'watermellon')\n",
        "#i want only mango from above collection\n",
        "print(t1[6])"
      ],
      "metadata": {
        "colab": {
          "base_uri": "https://localhost:8080/"
        },
        "id": "35xTRTh-gQuv",
        "outputId": "03210d16-fbc7-43b4-968e-d950c2f7f9b9"
      },
      "execution_count": null,
      "outputs": [
        {
          "output_type": "stream",
          "name": "stdout",
          "text": [
            "watermellon\n"
          ]
        }
      ]
    },
    {
      "cell_type": "code",
      "source": [
        "#print the range of elements in t1 --->[3:5] print the 5th item also\n",
        "t1 = ('mango', 'mango', 'apple', 'pineapple', 'grapes', 'kiwi', 'watermellon')\n",
        "print(t1[3:6])"
      ],
      "metadata": {
        "colab": {
          "base_uri": "https://localhost:8080/"
        },
        "id": "oONqeYzChs2r",
        "outputId": "7d255ec1-f432-433f-9a73-f3b1dc6a7991"
      },
      "execution_count": null,
      "outputs": [
        {
          "output_type": "stream",
          "name": "stdout",
          "text": [
            "('pineapple', 'grapes', 'kiwi')\n"
          ]
        }
      ]
    },
    {
      "cell_type": "code",
      "source": [
        "#print the even position element in above collection\n",
        "t1 = ('mango', 'mango', 'apple', 'pineapple', 'grapes', 'kiwi', 'watermellon')\n",
        "print(t1[::2]) #start can be 0 and end can be len(t1) by default"
      ],
      "metadata": {
        "colab": {
          "base_uri": "https://localhost:8080/"
        },
        "id": "resapkSpiJ4l",
        "outputId": "bdfbe8f0-e2b3-43b2-a21a-0dceb11bcc9b"
      },
      "execution_count": null,
      "outputs": [
        {
          "output_type": "stream",
          "name": "stdout",
          "text": [
            "('mango', 'apple', 'grapes', 'watermellon')\n"
          ]
        }
      ]
    },
    {
      "cell_type": "code",
      "source": [
        "#reverse the tuple\n",
        "m1 = ('mango', 'mango', 'apple', 'pineapple', 'grapes', 'kiwi', 'watermellon')\n",
        "print(m1[::-1])\n",
        "print(m1[-1:-8:-1])"
      ],
      "metadata": {
        "colab": {
          "base_uri": "https://localhost:8080/"
        },
        "id": "JSUDkgc0iafX",
        "outputId": "4342bb31-87f7-4885-8859-4c124a094c27"
      },
      "execution_count": null,
      "outputs": [
        {
          "output_type": "stream",
          "name": "stdout",
          "text": [
            "('watermellon', 'kiwi', 'grapes', 'pineapple', 'apple', 'mango', 'mango')\n",
            "('watermellon', 'kiwi', 'grapes', 'pineapple', 'apple', 'mango', 'mango')\n"
          ]
        }
      ]
    },
    {
      "cell_type": "code",
      "source": [
        "#Immutable:-\n",
        "t1 = ('mango', 'mango', 'apple', 'pineapple', 'grapes', 'kiwi', 'watermellon')\n",
        "t1[1] = 'orange'\n",
        "print(tl)\n",
        "tl.pop()\n",
        "print(tl)\n",
        "#NOTE:- tuples are immutable so we can not add or delete items from tuple"
      ],
      "metadata": {
        "id": "NGPCqiVjjikU"
      },
      "execution_count": null,
      "outputs": []
    },
    {
      "cell_type": "code",
      "source": [
        "print(dir(t1))"
      ],
      "metadata": {
        "colab": {
          "base_uri": "https://localhost:8080/"
        },
        "id": "UTu9K1_Olb6w",
        "outputId": "56c8e5a7-f0c7-4998-a9f6-7db8e8078ffd"
      },
      "execution_count": null,
      "outputs": [
        {
          "output_type": "stream",
          "name": "stdout",
          "text": [
            "['__add__', '__class__', '__class_getitem__', '__contains__', '__delattr__', '__dir__', '__doc__', '__eq__', '__format__', '__ge__', '__getattribute__', '__getitem__', '__getnewargs__', '__gt__', '__hash__', '__init__', '__init_subclass__', '__iter__', '__le__', '__len__', '__lt__', '__mul__', '__ne__', '__new__', '__reduce__', '__reduce_ex__', '__repr__', '__rmul__', '__setattr__', '__sizeof__', '__str__', '__subclasshook__', 'count', 'index']\n"
          ]
        }
      ]
    },
    {
      "cell_type": "code",
      "source": [
        "t1 = ('mango', 'mango', 'apple', 'pineapple', 'grapes', 'kiwi', 'watermellon')\n",
        "#'count' , 'index'\n",
        "print(t1.count(\"mango\"))\n",
        "print(t1.index(\"apple\"))\n"
      ],
      "metadata": {
        "colab": {
          "base_uri": "https://localhost:8080/"
        },
        "id": "eVQkzd8CmLN-",
        "outputId": "4122932c-349a-42be-96cd-6a495ebf15c8"
      },
      "execution_count": null,
      "outputs": [
        {
          "output_type": "stream",
          "name": "stdout",
          "text": [
            "2\n",
            "2\n"
          ]
        }
      ]
    },
    {
      "cell_type": "code",
      "source": [
        "#create a list by using the tuple?\n",
        "t1 = (1,2,3,4)\n",
        "l1 = list(t1)\n",
        "print(l1)\n",
        "print(type(t1))\n",
        "print(type(l1))"
      ],
      "metadata": {
        "colab": {
          "base_uri": "https://localhost:8080/"
        },
        "id": "Y2ytPGS8nBvA",
        "outputId": "86696165-926f-4f98-bdc0-9da3f0157fdd"
      },
      "execution_count": null,
      "outputs": [
        {
          "output_type": "stream",
          "name": "stdout",
          "text": [
            "[1, 2, 3, 4]\n",
            "<class 'tuple'>\n",
            "<class 'list'>\n"
          ]
        }
      ]
    },
    {
      "cell_type": "code",
      "source": [
        "#difference b/w list and tuple\n",
        "\n",
        "#why tuple are faster than list?"
      ],
      "metadata": {
        "id": "ht8S0nG_oZof"
      },
      "execution_count": null,
      "outputs": []
    },
    {
      "cell_type": "code",
      "source": [
        "t1 = ('mango', 'mango', 'apple', 'pineapple', 'grapes', 'kiwi', 'watermellon')\n",
        "print(type(t1))\n",
        "t1 = list(t1)\n",
        "print(t1)\n",
        "print(type(t1))"
      ],
      "metadata": {
        "colab": {
          "base_uri": "https://localhost:8080/"
        },
        "id": "N1NjjN6ponnD",
        "outputId": "a95b0a39-ce82-4470-8f7d-7a89d10fd6b8"
      },
      "execution_count": null,
      "outputs": [
        {
          "output_type": "stream",
          "name": "stdout",
          "text": [
            "<class 'tuple'>\n",
            "['mango', 'mango', 'apple', 'pineapple', '12', 'grapes', 'kiwi', 'watermellon']\n",
            "<class 'list'>\n"
          ]
        }
      ]
    },
    {
      "cell_type": "code",
      "source": [],
      "metadata": {
        "id": "jDFA8qW46Ugs"
      },
      "execution_count": null,
      "outputs": []
    },
    {
      "cell_type": "markdown",
      "source": [
        "#set"
      ],
      "metadata": {
        "id": "HPMqjI-8EoB5"
      }
    },
    {
      "cell_type": "code",
      "source": [
        "#set----> {}\n",
        "#unordered, immutable,\n",
        "#it wont allow the duplicates.\n",
        "s1 = {1,2,3,4,5,6,1,2,3,4,5,6,6}\n",
        "print(s1)"
      ],
      "metadata": {
        "colab": {
          "base_uri": "https://localhost:8080/"
        },
        "id": "GV_sKJXfEs1k",
        "outputId": "666e7bec-f303-4768-d172-65ceedf17486"
      },
      "execution_count": null,
      "outputs": [
        {
          "output_type": "stream",
          "name": "stdout",
          "text": [
            "{1, 2, 3, 4, 5, 6}\n"
          ]
        }
      ]
    },
    {
      "cell_type": "code",
      "source": [
        "s2 = {\"apple\", \"lemon\",\"apple\", \"lemon\",}\n",
        "print(s2)"
      ],
      "metadata": {
        "colab": {
          "base_uri": "https://localhost:8080/"
        },
        "id": "ynur5XxSUd51",
        "outputId": "937bfc46-30c9-4e18-8f25-763c1814fedb"
      },
      "execution_count": null,
      "outputs": [
        {
          "output_type": "stream",
          "name": "stdout",
          "text": [
            "{'lemon', 'apple'}\n"
          ]
        }
      ]
    },
    {
      "cell_type": "code",
      "source": [
        "#sets is un ordered---->we can not access the elements from the sets why because it dosent hav index position numbers.\n",
        "print(s1[0])"
      ],
      "metadata": {
        "id": "DEhxBDxAGNFO"
      },
      "execution_count": null,
      "outputs": []
    },
    {
      "cell_type": "code",
      "source": [
        "#sets are immutable.\n",
        "#in sets we can able to add and delete the elements but we can not replace the items /elements.\n",
        "#why we cant swap or replace or change elements in sets?\n",
        "#sets dosent have index positions so it can not replace the elements\n",
        "#where the elements in sets are stored\n",
        "#the elements are storing randomly in sets.\n"
      ],
      "metadata": {
        "id": "B55IIOW3Gv-A"
      },
      "execution_count": null,
      "outputs": []
    },
    {
      "cell_type": "code",
      "source": [
        "#adding of elements in the sets.\n",
        "#what is the default index positions when you add elements/items in the sets.\n",
        "s1 = {1,2,3,4,5,6,1,2,3,4,5,6,6}\n",
        "s1.add(9)\n",
        "print(s1)\n",
        "#add merhod can take only one arguement"
      ],
      "metadata": {
        "colab": {
          "base_uri": "https://localhost:8080/"
        },
        "id": "ufXpLBsxIJ-V",
        "outputId": "d923bae6-a54b-4b61-f11c-7b7f4b2d179b"
      },
      "execution_count": null,
      "outputs": [
        {
          "output_type": "stream",
          "name": "stdout",
          "text": [
            "{1, 2, 3, 4, 5, 6, 9}\n"
          ]
        }
      ]
    },
    {
      "cell_type": "code",
      "source": [
        "#if i want to add multiple values or items in the set then?\n",
        "#we have to use the multiple method.\n",
        "s2 = {1, 2, 3, 4, 5, 6, 9}\n",
        "s3 = (10,22,33)\n",
        "s2.update(s3)\n",
        "print(s2)"
      ],
      "metadata": {
        "colab": {
          "base_uri": "https://localhost:8080/"
        },
        "id": "TnUi6V-rIJ2O",
        "outputId": "9ae32bb0-bb65-4971-d4a6-27d1dcb9696b"
      },
      "execution_count": null,
      "outputs": [
        {
          "output_type": "stream",
          "name": "stdout",
          "text": [
            "{1, 2, 3, 4, 5, 6, 9, 10, 22, 33}\n"
          ]
        }
      ]
    },
    {
      "cell_type": "code",
      "source": [
        "s2 = {1, 2, 3, 4, 5, 6, 9}\n",
        "s2.update(\"10\",\"20\",\"30\")\n",
        "print(s2)"
      ],
      "metadata": {
        "colab": {
          "base_uri": "https://localhost:8080/"
        },
        "id": "8TGaIdi-IJgM",
        "outputId": "8248802c-55b7-4cb8-9f65-f6704255761b"
      },
      "execution_count": null,
      "outputs": [
        {
          "output_type": "stream",
          "name": "stdout",
          "text": [
            "{1, 2, 3, 4, 5, 6, 9, '0', '1', '3', '2'}\n"
          ]
        }
      ]
    },
    {
      "cell_type": "code",
      "source": [
        "#remove elements from set.\n",
        "s1 = {2, 1, 5, 5, 3, 4, 6, 9}\n",
        "s1.remove(2)\n",
        "s1.remove(5)\n",
        "print(s1)"
      ],
      "metadata": {
        "colab": {
          "base_uri": "https://localhost:8080/"
        },
        "id": "FwBh99QdNN3Y",
        "outputId": "af674b49-ca26-43da-dd8f-d927acbb8987"
      },
      "execution_count": null,
      "outputs": [
        {
          "output_type": "stream",
          "name": "stdout",
          "text": [
            "{1, 3, 4, 6, 9}\n"
          ]
        }
      ]
    },
    {
      "cell_type": "code",
      "source": [
        "s1.remove(0) #remove takes exactly one arguement\n",
        "print(s1)"
      ],
      "metadata": {
        "id": "t4NQLESGOVBq"
      },
      "execution_count": null,
      "outputs": []
    },
    {
      "cell_type": "code",
      "source": [
        "#discard\n",
        "s1 = {1, 8, 2, 3, 4, 5, 6, 9,7}\n",
        "s1.discard(2) #discard takes only one arguement\n",
        "print(s1)"
      ],
      "metadata": {
        "colab": {
          "base_uri": "https://localhost:8080/"
        },
        "id": "xkr6PGr8OdM5",
        "outputId": "943e6fc9-62a6-4157-e25a-19494031d516"
      },
      "execution_count": null,
      "outputs": [
        {
          "output_type": "stream",
          "name": "stdout",
          "text": [
            "{1, 3, 4, 5, 6, 7, 8, 9}\n"
          ]
        }
      ]
    },
    {
      "cell_type": "code",
      "source": [
        "#pop\n",
        "s1 = {7, 8, 2, 3, 4, 5, 6, 9,1}\n",
        "s1.pop()\n",
        "print(s1)\n",
        "#why we are not using pop method in sets?\n",
        "#it removes the elements randomly."
      ],
      "metadata": {
        "colab": {
          "base_uri": "https://localhost:8080/"
        },
        "id": "wGSi13fxOoic",
        "outputId": "da44ba29-aea4-479d-8036-b4c0952ce4db"
      },
      "execution_count": null,
      "outputs": [
        {
          "output_type": "stream",
          "name": "stdout",
          "text": [
            "{2, 3, 4, 5, 6, 7, 8, 9}\n"
          ]
        }
      ]
    },
    {
      "cell_type": "code",
      "source": [
        "#delete--->del\n",
        "del s1"
      ],
      "metadata": {
        "id": "LZSIGZkhPGii"
      },
      "execution_count": null,
      "outputs": []
    },
    {
      "cell_type": "code",
      "source": [
        "#what is difference b/w discard and remove?\n",
        "#when we use discard if the item exist or not in the collection it wont through any errors while execution\n",
        "s = {1, 2, 3, 4, 5, 6, 9, 'apple', 'mango', 'banana', 'grape'}\n",
        "s.discard(2)\n",
        "print(s)"
      ],
      "metadata": {
        "colab": {
          "base_uri": "https://localhost:8080/"
        },
        "id": "YchvX5owPjx8",
        "outputId": "214bb54d-ebe0-4074-9e21-b3efee2c4665"
      },
      "execution_count": null,
      "outputs": [
        {
          "output_type": "stream",
          "name": "stdout",
          "text": [
            "{1, 3, 4, 5, 6, 'grape', 9, 'apple', 'banana', 'mango'}\n"
          ]
        }
      ]
    },
    {
      "cell_type": "code",
      "source": [
        "#execute matrix operation by using two sets\n",
        "#union and intersection\n",
        "s5 = {\"a\",\"b\",'c',\"d\"}\n",
        "s6 = {\"d\",\"e\",\"f\",\"g\",}\n",
        "s_add = s5.union(s6)\n",
        "print(s_add)"
      ],
      "metadata": {
        "colab": {
          "base_uri": "https://localhost:8080/"
        },
        "id": "4PyYda8KP_If",
        "outputId": "278a690e-218d-4a22-f51b-0375d1e9804d"
      },
      "execution_count": null,
      "outputs": [
        {
          "output_type": "stream",
          "name": "stdout",
          "text": [
            "{'d', 'e', 'c', 'g', 'a', 'b', 'f'}\n"
          ]
        }
      ]
    },
    {
      "cell_type": "code",
      "source": [
        "# common elements will be printed.\n",
        "s6 = {\"a\",\"b\",\"c\",\"d\",\"e\"}\n",
        "i1 = {\"a\",\"c\",\"b\",\"f\",\"g\"}\n",
        "s_inter = s6.intersection(i1)\n",
        "print(s_inter)\n",
        "s_add = s6.union(i1)\n",
        "print(s_add)"
      ],
      "metadata": {
        "id": "uf56RNeORCJj",
        "colab": {
          "base_uri": "https://localhost:8080/"
        },
        "outputId": "964439fa-7709-4e4f-b9cf-62c1f8dfcb9b"
      },
      "execution_count": null,
      "outputs": [
        {
          "output_type": "stream",
          "name": "stdout",
          "text": [
            "{'a', 'b', 'c'}\n",
            "{'d', 'e', 'c', 'g', 'a', 'b', 'f'}\n"
          ]
        }
      ]
    },
    {
      "cell_type": "code",
      "source": [
        "# 7. Write a Python program to create a symmetric difference of sets.\n",
        "A = {1,2,4,6,7}\n",
        "B = {1,2,3,5,8}\n",
        "sd1 = A.symmetric_difference(B)\n",
        "print(sd1)\n",
        "  #(or)\n",
        "print(A^B)"
      ],
      "metadata": {
        "id": "y3Il3DVsRax1",
        "colab": {
          "base_uri": "https://localhost:8080/"
        },
        "outputId": "5314a142-8287-4edf-bcf0-5eaf596df82a"
      },
      "execution_count": null,
      "outputs": [
        {
          "output_type": "stream",
          "name": "stdout",
          "text": [
            "{3, 4, 5, 6, 7, 8}\n",
            "{3, 4, 5, 6, 7, 8}\n"
          ]
        }
      ]
    },
    {
      "cell_type": "markdown",
      "source": [
        "#dictionary"
      ],
      "metadata": {
        "id": "UiX_Sq1_VM9p"
      }
    },
    {
      "cell_type": "code",
      "source": [
        "#what is dictionary?\n",
        "#--->{}--->unordered, mutable, do not allow the duplicates.\n",
        "#where the items stored in disctionary.\n",
        "#stored in keys:values"
      ],
      "metadata": {
        "id": "TBDlZyJKVP3M"
      },
      "execution_count": null,
      "outputs": []
    },
    {
      "cell_type": "code",
      "source": [
        "d1 = {\n",
        "    \"name\":\"chandu\",\n",
        "    \"age\": 28,\n",
        "    \"education\" : \"b.tech\",\n",
        "    \"education\" : \"intermediet\"\n",
        "}\n",
        "print(d1)\n",
        "#find the length of disctionary.\n",
        "print(len(d1))"
      ],
      "metadata": {
        "colab": {
          "base_uri": "https://localhost:8080/"
        },
        "id": "ePeQAGoCYGDB",
        "outputId": "3648a9b1-da5f-41cf-d6d1-ebc2df4fd0c5"
      },
      "execution_count": null,
      "outputs": [
        {
          "output_type": "stream",
          "name": "stdout",
          "text": [
            "{'name': 'chandu', 'age': 28, 'education': 'intermediet'}\n",
            "3\n"
          ]
        }
      ]
    },
    {
      "cell_type": "code",
      "source": [
        "d1 = {\n",
        "    \"name\" : \"chandu\",\n",
        "    \"age\" : 28,\n",
        "    \"education\" : \"b.tech\",\n",
        "    \"education\" : \"intermediet\",\n",
        "    \"fruits\" : ['mango', 'apple', 'banana', 'pineapple', 'oranges']\n",
        "}\n",
        "print(d1)\n",
        "print(d1.get(\"age\"))"
      ],
      "metadata": {
        "colab": {
          "base_uri": "https://localhost:8080/"
        },
        "id": "vGk3OiV6YF_s",
        "outputId": "f3044394-ba9f-4017-e8ab-981069e421e7"
      },
      "execution_count": null,
      "outputs": [
        {
          "output_type": "stream",
          "name": "stdout",
          "text": [
            "{'name': 'chandu', 'age': 28, 'education': 'intermediet', 'fruits': ['mango', 'apple', 'banana', 'pineapple', 'oranges']}\n",
            "28\n"
          ]
        }
      ]
    },
    {
      "cell_type": "code",
      "source": [
        "#print \"name\" frome disctionary d1\n",
        "print(d1['name'])"
      ],
      "metadata": {
        "colab": {
          "base_uri": "https://localhost:8080/"
        },
        "id": "WyloHa3WYF8p",
        "outputId": "2ea7954c-1924-4d43-ec7b-5e8083d834d7"
      },
      "execution_count": null,
      "outputs": [
        {
          "output_type": "stream",
          "name": "stdout",
          "text": [
            "chandu\n"
          ]
        }
      ]
    },
    {
      "cell_type": "code",
      "source": [
        "#print \"fruits\" from d1\n",
        "print(d1[\"fruits\"])\n",
        "#in this fruits access only \"banana\"\n",
        "print(d1[\"fruits\"][0])\n",
        "print(d1[\"fruits\"][::-1])"
      ],
      "metadata": {
        "colab": {
          "base_uri": "https://localhost:8080/"
        },
        "id": "rU6bxvsgYFzU",
        "outputId": "547b9d6d-981e-4d1f-e8e5-46584949edaa"
      },
      "execution_count": null,
      "outputs": [
        {
          "output_type": "stream",
          "name": "stdout",
          "text": [
            "['mango', 'apple', 'banana', 'pineapple', 'oranges']\n",
            "mango\n",
            "['oranges', 'pineapple', 'banana', 'apple', 'mango']\n"
          ]
        }
      ]
    },
    {
      "cell_type": "code",
      "source": [
        "#i want to replace the value of \"name\"\n",
        "d1[\"name\"] = 'zenvius'\n",
        "print(d1)"
      ],
      "metadata": {
        "colab": {
          "base_uri": "https://localhost:8080/"
        },
        "id": "nZR5XZYuYFvt",
        "outputId": "033d0c14-63ec-400d-fff1-acd10a28e280"
      },
      "execution_count": null,
      "outputs": [
        {
          "output_type": "stream",
          "name": "stdout",
          "text": [
            "{'name': 'zenvius', 'age': 28, 'education': 'intermediet', 'fruits': ['mango', 'apple', 'banana', 'pineapple', 'oranges']}\n"
          ]
        }
      ]
    },
    {
      "cell_type": "code",
      "source": [
        "d1[\"bike\"] = 'gt'\n",
        "print(d1)\n",
        "#we are not using any replace and insert method in disctionary\n",
        "#if the key name exits the value gets replaced other wise if the key name dosen't exit a new:value pair is added."
      ],
      "metadata": {
        "colab": {
          "base_uri": "https://localhost:8080/"
        },
        "id": "ND1yzFtoYFsW",
        "outputId": "dd6d6a9e-87e3-4858-82c3-c1a6b714c823"
      },
      "execution_count": null,
      "outputs": [
        {
          "output_type": "stream",
          "name": "stdout",
          "text": [
            "{'name': 'zenvius', 'age': 28, 'education': 'intermediet', 'fruits': ['mango', 'apple', 'banana', 'pineapple', 'oranges'], 'bike': 'gt'}\n"
          ]
        }
      ]
    },
    {
      "cell_type": "code",
      "source": [
        "#how can we delete or remove items in a disctionary?\n",
        "d1 = {\n",
        "    \"name\" : \"chandu\",\n",
        "    \"age\" : 28,\n",
        "    \"education\" : \"b.tech\",\n",
        "    \"education\" : \"intermediet\",\n",
        "    \"fruits\" : ['mango', 'apple', 'banana', 'pineapple', 'oranges']\n",
        "}\n",
        "#delete \"fruits\" from above dict\n",
        "d1.pop('fruits')\n",
        "print(d1)"
      ],
      "metadata": {
        "colab": {
          "base_uri": "https://localhost:8080/"
        },
        "id": "Lj9JcF5Zc_Xa",
        "outputId": "09922ec6-c0b4-4355-f4a7-facd8c619367"
      },
      "execution_count": null,
      "outputs": [
        {
          "output_type": "stream",
          "name": "stdout",
          "text": [
            "{'name': 'chandu', 'age': 28, 'education': 'intermediet'}\n"
          ]
        }
      ]
    },
    {
      "cell_type": "code",
      "source": [
        "d3 = {\n",
        "    \"name\" : \"chandu\",\n",
        "    \"age\" : 28,\n",
        "    \"education\" : \"b.tech\",\n",
        "    \"education\" : \"intermediet\",\n",
        "    \"fruits\" : ['mango', 'apple']\n",
        "}\n",
        "#insert \"kiwi\" in to fruits\n",
        "d3[\"fruits\"][1] = \"kiwi\"\n",
        "print(d3)"
      ],
      "metadata": {
        "colab": {
          "base_uri": "https://localhost:8080/"
        },
        "id": "jN6I3L-neCUP",
        "outputId": "bbd97e53-4695-4c64-ebdb-9f214da7b9da"
      },
      "execution_count": null,
      "outputs": [
        {
          "output_type": "stream",
          "name": "stdout",
          "text": [
            "{'name': 'chandu', 'age': 28, 'education': 'intermediet', 'fruits': ['mango', 'kiwi']}\n"
          ]
        }
      ]
    },
    {
      "cell_type": "code",
      "source": [
        "#insert method\n",
        "d3['fruits'].insert(3,'grape')\n",
        "print(d3)"
      ],
      "metadata": {
        "colab": {
          "base_uri": "https://localhost:8080/"
        },
        "id": "Htx45-itewDk",
        "outputId": "f638734e-dcba-4f4c-a2c0-522a15fd7966"
      },
      "execution_count": null,
      "outputs": [
        {
          "output_type": "stream",
          "name": "stdout",
          "text": [
            "{'name': 'chandu', 'age': 28, 'education': 'intermediet', 'fruits': ['mango', 'kiwi', 'grape']}\n"
          ]
        }
      ]
    },
    {
      "cell_type": "code",
      "source": [
        "#append method\n",
        "d3['fruits'].append('mango')\n",
        "print(d3)"
      ],
      "metadata": {
        "colab": {
          "base_uri": "https://localhost:8080/"
        },
        "id": "VjPahzdafG03",
        "outputId": "834142d4-1d58-442f-83e2-a6365e8eed08"
      },
      "execution_count": null,
      "outputs": [
        {
          "output_type": "stream",
          "name": "stdout",
          "text": [
            "{'name': 'chandu', 'age': 28, 'education': 'intermediet', 'fruits': ['mango', 'kiwi', 'grape', 'mango']}\n"
          ]
        }
      ]
    },
    {
      "cell_type": "code",
      "source": [
        "d3[\"fruits\"][1] = \"kiwi\", \"grape\"\n",
        "print(d3)"
      ],
      "metadata": {
        "colab": {
          "base_uri": "https://localhost:8080/"
        },
        "id": "xMYyX6e6foCd",
        "outputId": "a52da8f6-a32c-4d75-cbd9-70b7686f9e12"
      },
      "execution_count": null,
      "outputs": [
        {
          "output_type": "stream",
          "name": "stdout",
          "text": [
            "{'name': 'chandu', 'age': 28, 'education': 'intermediet', 'fruits': ['mango', ('kiwi', 'grape'), 'grape', 'mango']}\n"
          ]
        }
      ]
    },
    {
      "cell_type": "code",
      "source": [
        "del d3[\"age\"]"
      ],
      "metadata": {
        "id": "DPA03KwjhFeM"
      },
      "execution_count": null,
      "outputs": []
    },
    {
      "cell_type": "code",
      "source": [
        "d3.clear()"
      ],
      "metadata": {
        "id": "1mwQSsHGhq6N"
      },
      "execution_count": null,
      "outputs": []
    },
    {
      "cell_type": "code",
      "source": [
        "d4 = {\n",
        "    \"name\" : \"chandu\", \"height\" : 178,\n",
        "    \"age\" : 22,\n",
        "    \"education\" : \"b.tech\",\n",
        "    \"fruits\" : ['mango', 'apple']}\n",
        "\n",
        "#pint only keys from the dictionary\n",
        "print(d4.keys())\n",
        "#print only items\n",
        "print(d4.items())\n",
        "#print only values\n",
        "print(d4.values())"
      ],
      "metadata": {
        "colab": {
          "base_uri": "https://localhost:8080/"
        },
        "id": "7PT1GArFhw60",
        "outputId": "24cc02fe-9783-4bdb-f568-7abeb67c05c0"
      },
      "execution_count": null,
      "outputs": [
        {
          "output_type": "stream",
          "name": "stdout",
          "text": [
            "dict_keys(['name', 'height', 'age', 'education', 'fruits'])\n",
            "dict_items([('name', 'chandu'), ('height', 178), ('age', 22), ('education', 'b.tech'), ('fruits', ['mango', 'apple'])])\n",
            "dict_values(['chandu', 178, 22, 'b.tech', ['mango', 'apple']])\n"
          ]
        }
      ]
    },
    {
      "cell_type": "code",
      "source": [
        "#working with loops in disctionary\n",
        "for i in d4.keys():\n",
        "  print(i)"
      ],
      "metadata": {
        "colab": {
          "base_uri": "https://localhost:8080/"
        },
        "id": "sIUwvjOWiZDo",
        "outputId": "a52b4639-cca7-45e1-ea5d-60bbdff24b2f"
      },
      "execution_count": null,
      "outputs": [
        {
          "output_type": "stream",
          "name": "stdout",
          "text": [
            "name\n",
            "age\n",
            "education\n",
            "fruits\n"
          ]
        }
      ]
    },
    {
      "cell_type": "code",
      "source": [
        "#print only values in seperate line\n",
        "for i in d4.values():\n",
        "  print(i)"
      ],
      "metadata": {
        "colab": {
          "base_uri": "https://localhost:8080/"
        },
        "id": "PTPvktH-iw9r",
        "outputId": "92aa3bb4-6ad2-4ad2-994a-bf417d229891"
      },
      "execution_count": null,
      "outputs": [
        {
          "output_type": "stream",
          "name": "stdout",
          "text": [
            "chandu\n",
            "28\n",
            "b.tech\n",
            "['mango', 'apple']\n"
          ]
        }
      ]
    },
    {
      "cell_type": "code",
      "source": [
        "for i in d4.items():\n",
        "  print(i)"
      ],
      "metadata": {
        "colab": {
          "base_uri": "https://localhost:8080/"
        },
        "id": "0a--Bs48jiqm",
        "outputId": "d0ab4a74-a5cc-42de-aa03-9392976c0036"
      },
      "execution_count": null,
      "outputs": [
        {
          "output_type": "stream",
          "name": "stdout",
          "text": [
            "('name', 'chandu')\n",
            "('age', 28)\n",
            "('education', 'b.tech')\n",
            "('fruits', ['mango', 'apple'])\n"
          ]
        }
      ]
    },
    {
      "cell_type": "code",
      "source": [
        "#print keys values pair in seperate line?\n",
        "for i in  d4.keys():\n",
        "  print(f'{i}:{d4[i]}')\n"
      ],
      "metadata": {
        "colab": {
          "base_uri": "https://localhost:8080/"
        },
        "id": "h9n-ZTCtjsgz",
        "outputId": "a5760ecf-14ba-466f-8af4-58aa3625b958"
      },
      "execution_count": null,
      "outputs": [
        {
          "output_type": "stream",
          "name": "stdout",
          "text": [
            "name:chandu\n",
            "age:28\n",
            "education:b.tech\n",
            "fruits:['mango', 'apple']\n"
          ]
        }
      ]
    },
    {
      "cell_type": "code",
      "source": [],
      "metadata": {
        "id": "PORqGu5MkWqL"
      },
      "execution_count": null,
      "outputs": []
    },
    {
      "cell_type": "markdown",
      "source": [
        "#Functions"
      ],
      "metadata": {
        "id": "cgv6hNUWbBwv"
      }
    },
    {
      "cell_type": "code",
      "source": [
        "#what is a function\n",
        "#function is a block of code which only runs when it is called."
      ],
      "metadata": {
        "id": "I6nSjXDWbEap"
      },
      "execution_count": null,
      "outputs": []
    },
    {
      "cell_type": "code",
      "source": [
        "#how to create function and how to call the function\n",
        "#to create a function use key word called \"def\"\n",
        "def chandu(): #---> function defination\n",
        "  print(\"hello world\")\n",
        "  print(\"this is running with a function\") #---> function body\n",
        "  print(\"================\")\n",
        "#call this function\n",
        "chandu()#-----> function call"
      ],
      "metadata": {
        "colab": {
          "base_uri": "https://localhost:8080/"
        },
        "id": "8UZj9k1meaP_",
        "outputId": "dce348eb-9cf5-416b-b946-7f135b78a2ca"
      },
      "execution_count": null,
      "outputs": [
        {
          "output_type": "stream",
          "name": "stdout",
          "text": [
            "hello world\n",
            "this is running with a function\n",
            "================\n"
          ]
        }
      ]
    },
    {
      "cell_type": "code",
      "source": [
        "def zenvius_welcom():\n",
        "  print(\"hello good morning\")\n",
        "  print('this is your module 2')\n",
        "  print(\"please practic your session\")\n",
        "#call the function\n",
        "zenvius_welcom()"
      ],
      "metadata": {
        "colab": {
          "base_uri": "https://localhost:8080/"
        },
        "id": "AzdtimTLfL07",
        "outputId": "88f053f3-add2-496b-8c2c-1835225c361e"
      },
      "execution_count": null,
      "outputs": [
        {
          "output_type": "stream",
          "name": "stdout",
          "text": [
            "hello good morning\n",
            "this is your module 2\n",
            "please practic your session\n"
          ]
        }
      ]
    },
    {
      "cell_type": "code",
      "source": [
        "#what is parameter?\n",
        "#what is argument?\n",
        "#what is difference b/w parameter and argument?"
      ],
      "metadata": {
        "id": "Q3i8V6GIfuZo"
      },
      "execution_count": null,
      "outputs": []
    },
    {
      "cell_type": "code",
      "source": [
        "#what is parameter?\n",
        "#creating a variable when your defining a function is known as parameter\n",
        "def details(name,age,gender,education):\n",
        "  print(f\"hello iam {name}, and my age is {age}, my gender is {gender}, i have done my degree in {education}\")\n",
        "#call this function\n",
        "details(\"chandu\",22,\"male\",\" b.tech\")\n"
      ],
      "metadata": {
        "colab": {
          "base_uri": "https://localhost:8080/"
        },
        "id": "6apFYhpkfuWK",
        "outputId": "cd3e9e30-a640-49a8-a60e-ef253cc2d337"
      },
      "execution_count": null,
      "outputs": [
        {
          "output_type": "stream",
          "name": "stdout",
          "text": [
            "hello iam chandu, and my age is 22, my gender is male, i have done my degree in  b.tech\n"
          ]
        }
      ]
    },
    {
      "cell_type": "code",
      "source": [
        "def details(name,age,gender,education):\n",
        "  print(f\"hello iam {name}, and my age is {age}, my gender is {gender}, i have done my degree in {education}\")\n",
        "#call this function\n",
        "name = input(\"enter your name: \")\n",
        "age = int(input(\"enter your age: \"))\n",
        "gender = input(\"enter your gender: \")\n",
        "education = input(\"enter your education: \")\n",
        "#what is argumente?\n",
        "#calling the function with certain value is known as argument.\n",
        "details(name,age,gender,education)"
      ],
      "metadata": {
        "colab": {
          "base_uri": "https://localhost:8080/"
        },
        "id": "ZBwie473ihGG",
        "outputId": "f00092ad-34f2-4eba-ec0f-dd365bf53d72"
      },
      "execution_count": null,
      "outputs": [
        {
          "output_type": "stream",
          "name": "stdout",
          "text": [
            "enter your name: chandu\n",
            "enter your age: 22\n",
            "enter your gender: male\n",
            "enter your education: b.tech\n",
            "hello iam chandu, and my age is 22, my gender is male, i have done my degree in b.tech\n"
          ]
        }
      ]
    },
    {
      "cell_type": "code",
      "source": [
        "def details(name,age,gender,education): #---->this is called parameters.\n",
        "  print(f\"hello iam {name}, and my age is {age}, my gender is {gender}, i have done my degree in {education}\")\n",
        "#call this function\n",
        "details(\"chandu\",22,\"male\",\" b.tech\") #---->this is called arguements.\n",
        "#note it is important to give or to call the function with same number of arguments when you have define with specific number of parameters.\n",
        "#call function ---->number of perameter == number of arguments"
      ],
      "metadata": {
        "colab": {
          "base_uri": "https://localhost:8080/"
        },
        "id": "sW66nuxrj7vP",
        "outputId": "b113405d-20be-4016-8355-db3b5fc828ad"
      },
      "execution_count": null,
      "outputs": [
        {
          "output_type": "stream",
          "name": "stdout",
          "text": [
            "hello iam chandu, and my age is 22, my gender is male, i have done my degree in  b.tech\n"
          ]
        }
      ]
    },
    {
      "cell_type": "code",
      "source": [
        "#what do i do when i dont know how many parameters do i need to pass?\n",
        "def f2(**name):\n",
        "  for x in name:\n",
        "    print(f'hello, {x}')\n",
        "  print(\"==========\")\n",
        "f2(Name = \"python\", last_name = \"programming language\")"
      ],
      "metadata": {
        "colab": {
          "base_uri": "https://localhost:8080/"
        },
        "id": "QQbeDPiam2YY",
        "outputId": "e147abec-b483-435c-80f9-ad748c543716"
      },
      "execution_count": null,
      "outputs": [
        {
          "output_type": "stream",
          "name": "stdout",
          "text": [
            "hello, Name\n",
            "hello, last_name\n",
            "==========\n"
          ]
        }
      ]
    },
    {
      "cell_type": "code",
      "source": [
        "def f2(**name):\n",
        "  for x,y in name.items():\n",
        "    print(f'{x} = {y}')\n",
        "  print(\"==========\")\n",
        "f2(Name = \"python\", last_name = \"programming language\")\n",
        "f2(name = \"java\",last_name = \"programming language\", mobile = 995907865)"
      ],
      "metadata": {
        "colab": {
          "base_uri": "https://localhost:8080/"
        },
        "id": "QkHp5d8fm2Tv",
        "outputId": "fb57395f-8c11-47ef-bfa5-1a5f4b7f13ab"
      },
      "execution_count": null,
      "outputs": [
        {
          "output_type": "stream",
          "name": "stdout",
          "text": [
            "Name = python\n",
            "last_name = programming language\n",
            "==========\n",
            "name = java\n",
            "last_name = programming language\n",
            "mobile = 995907865\n",
            "==========\n"
          ]
        }
      ]
    },
    {
      "cell_type": "code",
      "source": [
        "print(10,20,30,40, sep=\"\\n\")"
      ],
      "metadata": {
        "colab": {
          "base_uri": "https://localhost:8080/"
        },
        "id": "_37MbIGtm2QX",
        "outputId": "9eaf194a-7b26-4110-b270-8191bff85e65"
      },
      "execution_count": null,
      "outputs": [
        {
          "output_type": "stream",
          "name": "stdout",
          "text": [
            "10\n",
            "20\n",
            "30\n",
            "40\n"
          ]
        }
      ]
    },
    {
      "cell_type": "code",
      "source": [
        "def f3(name,age,gender):\n",
        "  print(f\"my name is {name}, and my age is {age}, gender {gender}\",sep='\\n')\n",
        "f3(\"chandu\",22,\"M\")"
      ],
      "metadata": {
        "colab": {
          "base_uri": "https://localhost:8080/"
        },
        "id": "uafwAikWoha1",
        "outputId": "24679889-713b-4d1d-a1e2-96ee90fb38b8"
      },
      "execution_count": null,
      "outputs": [
        {
          "output_type": "stream",
          "name": "stdout",
          "text": [
            "my name is chandu,and my age is 22, gender M\n"
          ]
        }
      ]
    },
    {
      "cell_type": "code",
      "source": [
        "#what do i have to do when you don't know how to deal with no.of arguments>\n",
        "def f4(*n):\n",
        "  print(f\"hello, {n}\")\n",
        "f4(\"py\",\"j\",\"c++\")"
      ],
      "metadata": {
        "colab": {
          "base_uri": "https://localhost:8080/"
        },
        "id": "tYKb533rohXZ",
        "outputId": "935060d3-16b8-4337-f0ef-39eee3f91c95"
      },
      "execution_count": null,
      "outputs": [
        {
          "output_type": "stream",
          "name": "stdout",
          "text": [
            "hello, ('py', 'j', 'c++')\n"
          ]
        }
      ]
    },
    {
      "cell_type": "code",
      "source": [
        "def f4(*n):\n",
        "  for x in n:\n",
        "    print(f\"hello, {x}\")\n",
        "f4(\"py\",\"j\",\"c++\")"
      ],
      "metadata": {
        "colab": {
          "base_uri": "https://localhost:8080/"
        },
        "id": "MVEvMCddrYjI",
        "outputId": "7aeee05c-4c82-4f8a-e495-eb52dcdaa63b"
      },
      "execution_count": null,
      "outputs": [
        {
          "output_type": "stream",
          "name": "stdout",
          "text": [
            "hello, py\n",
            "hello, j\n",
            "hello, c++\n"
          ]
        }
      ]
    },
    {
      "cell_type": "code",
      "source": [
        "def f4(*n):\n",
        "  print(n)\n",
        "f4(\"py\",\"j\",\"c++\")"
      ],
      "metadata": {
        "colab": {
          "base_uri": "https://localhost:8080/"
        },
        "id": "S923VN8VsZT2",
        "outputId": "dd0fa40c-ec63-4051-efd3-d4bb37f50cf3"
      },
      "execution_count": null,
      "outputs": [
        {
          "output_type": "stream",
          "name": "stdout",
          "text": [
            "('py', 'j', 'c++')\n"
          ]
        }
      ]
    },
    {
      "cell_type": "code",
      "source": [
        "def f4(**h):\n",
        "  print(h)\n",
        "f4(name = \"python\", last_name = \"language\", age = 34)"
      ],
      "metadata": {
        "colab": {
          "base_uri": "https://localhost:8080/"
        },
        "id": "irVLfVz7stY7",
        "outputId": "16877a77-f2e8-4f0b-b5c5-c95a7a16f49a"
      },
      "execution_count": null,
      "outputs": [
        {
          "output_type": "stream",
          "name": "stdout",
          "text": [
            "{'name': 'python', 'last_name': 'language', 'age': 34}\n"
          ]
        }
      ]
    },
    {
      "cell_type": "code",
      "source": [
        "\"\"\" *--->when we dont know how many arguements you giving use (*)---> arbitrary arguments(Arugs)\n",
        "and default data type for \"ARUGS\" is \"tuple\". \"\"\"\n",
        "\"\"\" **---> when ue dont know how many parameters you giving us (**)--->arbitrary keyword arguements(Kwarugs)\n",
        "and default datatype for \"kwarugs\" is \"dictionary\". \"\"\""
      ],
      "metadata": {
        "id": "vFT22L8vs-72"
      },
      "execution_count": null,
      "outputs": []
    },
    {
      "cell_type": "code",
      "source": [],
      "metadata": {
        "id": "tuoQjCy8Oy54"
      },
      "execution_count": null,
      "outputs": []
    }
  ]
}